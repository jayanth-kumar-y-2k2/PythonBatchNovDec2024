{
 "cells": [
  {
   "cell_type": "markdown",
   "metadata": {},
   "source": [
    "# Generators\n",
    "        range(0, 100000, 2) -> 0\n",
    "        range(2, 100000, 2) -> 2\n",
    "        range(4, 100000, 2) -> 4\n",
    "        range(6, 100000, 2) -> 6\n",
    "        ....\n",
    "\n",
    "    return is the last statement to execute in any function\n",
    "\n",
    "    yield - keyword in python\n",
    "        If yield is placed within function definition,\n",
    "        it becomes generator\n",
    "\n",
    "    PEP8 - don't use both return & yield in same function\n",
    "\n",
    "    Generators follow the \"STATE SUSPENSION\""
   ]
  },
  {
   "cell_type": "code",
   "execution_count": 1,
   "metadata": {},
   "outputs": [
    {
     "name": "stdout",
     "output_type": "stream",
     "text": [
      "I am in the function\n"
     ]
    },
    {
     "data": {
      "text/plain": [
       "111"
      ]
     },
     "execution_count": 1,
     "metadata": {},
     "output_type": "execute_result"
    }
   ],
   "source": [
    "def myfunc():\n",
    "    print('I am in the function')\n",
    "    return 111\n",
    "    print('I am with 222')     # Code is not reachable. return is last statement to execute\n",
    "    return 222\n",
    "\n",
    "myfunc()"
   ]
  },
  {
   "cell_type": "code",
   "execution_count": 2,
   "metadata": {},
   "outputs": [
    {
     "name": "stdout",
     "output_type": "stream",
     "text": [
      "I am in the function\n"
     ]
    },
    {
     "data": {
      "text/plain": [
       "'even'"
      ]
     },
     "execution_count": 2,
     "metadata": {},
     "output_type": "execute_result"
    }
   ],
   "source": [
    "def is_even(n):\n",
    "    print('I am in the function')\n",
    "    if n % 2 == 0:\n",
    "        return 'even'  # last statemnet\n",
    "    else:\n",
    "        return 'odd'  # last statemnet\n",
    "\n",
    "is_even(10)"
   ]
  },
  {
   "cell_type": "code",
   "execution_count": 3,
   "metadata": {},
   "outputs": [
    {
     "name": "stdout",
     "output_type": "stream",
     "text": [
      "<class 'NoneType'> None\n"
     ]
    }
   ],
   "source": [
    "def my_generator():\n",
    "    return\n",
    "\n",
    "\n",
    "result = my_generator()\n",
    "print(type(result), result)"
   ]
  },
  {
   "cell_type": "code",
   "execution_count": 4,
   "metadata": {},
   "outputs": [
    {
     "name": "stdout",
     "output_type": "stream",
     "text": [
      "<class 'generator'> <generator object my_generator at 0x79e291f09c70>\n"
     ]
    }
   ],
   "source": [
    "def my_generator():\n",
    "    yield\n",
    "\n",
    "\n",
    "result = my_generator()\n",
    "print(type(result), result)"
   ]
  },
  {
   "cell_type": "code",
   "execution_count": 5,
   "metadata": {},
   "outputs": [
    {
     "name": "stdout",
     "output_type": "stream",
     "text": [
      "<class 'generator'> <generator object my_generator at 0x79e291f0a4b0>\n"
     ]
    }
   ],
   "source": [
    "def my_generator():\n",
    "    yield\n",
    "    return\n",
    "\n",
    "\n",
    "result = my_generator()\n",
    "print(type(result), result)"
   ]
  },
  {
   "cell_type": "code",
   "execution_count": 6,
   "metadata": {},
   "outputs": [
    {
     "name": "stdout",
     "output_type": "stream",
     "text": [
      "<class 'generator'> <generator object my_generator at 0x79e291f09c70>\n"
     ]
    }
   ],
   "source": [
    "def my_generator():\n",
    "    return\n",
    "    yield   # Though not reachable code, it is still a generator\n",
    "\n",
    "\n",
    "result = my_generator()\n",
    "print(type(result), result)"
   ]
  },
  {
   "cell_type": "code",
   "execution_count": 7,
   "metadata": {},
   "outputs": [
    {
     "name": "stdout",
     "output_type": "stream",
     "text": [
      "<class 'generator'> <generator object my_generator at 0x79e291f6cf40>\n"
     ]
    }
   ],
   "source": [
    "def my_generator():\n",
    "    print(\" I am in the function\")\n",
    "    yield 111\n",
    "    print(\"yielding 222\")\n",
    "    yield 222\n",
    "    print(\"yielding 333\")\n",
    "    yield 333\n",
    "    print(\"yielding 444\")\n",
    "    yield 444\n",
    "    return \"No More value to yield\"\n",
    "\n",
    "result = my_generator()\n",
    "print(type(result), result)"
   ]
  },
  {
   "cell_type": "code",
   "execution_count": 8,
   "metadata": {},
   "outputs": [],
   "source": [
    "# NOTE: Unlike functions, generators wont execute on fucntion call, \n",
    "# but when asked for first value"
   ]
  },
  {
   "cell_type": "code",
   "execution_count": 9,
   "metadata": {},
   "outputs": [
    {
     "name": "stdout",
     "output_type": "stream",
     "text": [
      " I am in the function\n"
     ]
    },
    {
     "data": {
      "text/plain": [
       "111"
      ]
     },
     "execution_count": 9,
     "metadata": {},
     "output_type": "execute_result"
    }
   ],
   "source": [
    "next(result)"
   ]
  },
  {
   "cell_type": "code",
   "execution_count": 10,
   "metadata": {},
   "outputs": [
    {
     "name": "stdout",
     "output_type": "stream",
     "text": [
      "yielding 222\n"
     ]
    }
   ],
   "source": [
    "given_value = next(result)"
   ]
  },
  {
   "cell_type": "code",
   "execution_count": 11,
   "metadata": {},
   "outputs": [
    {
     "data": {
      "text/plain": [
       "222"
      ]
     },
     "execution_count": 11,
     "metadata": {},
     "output_type": "execute_result"
    }
   ],
   "source": [
    "given_value"
   ]
  },
  {
   "cell_type": "code",
   "execution_count": 12,
   "metadata": {},
   "outputs": [
    {
     "name": "stdout",
     "output_type": "stream",
     "text": [
      "yielding 333\n"
     ]
    },
    {
     "data": {
      "text/plain": [
       "333"
      ]
     },
     "execution_count": 12,
     "metadata": {},
     "output_type": "execute_result"
    }
   ],
   "source": [
    "result.__next__()"
   ]
  },
  {
   "cell_type": "code",
   "execution_count": 13,
   "metadata": {},
   "outputs": [
    {
     "name": "stdout",
     "output_type": "stream",
     "text": [
      "yielding 444\n"
     ]
    },
    {
     "data": {
      "text/plain": [
       "444"
      ]
     },
     "execution_count": 13,
     "metadata": {},
     "output_type": "execute_result"
    }
   ],
   "source": [
    "result.__next__()"
   ]
  },
  {
   "cell_type": "code",
   "execution_count": 14,
   "metadata": {},
   "outputs": [
    {
     "ename": "StopIteration",
     "evalue": "No More value to yield",
     "output_type": "error",
     "traceback": [
      "\u001b[0;31m---------------------------------------------------------------------------\u001b[0m",
      "\u001b[0;31mStopIteration\u001b[0m                             Traceback (most recent call last)",
      "Cell \u001b[0;32mIn[14], line 1\u001b[0m\n\u001b[0;32m----> 1\u001b[0m \u001b[43mresult\u001b[49m\u001b[38;5;241;43m.\u001b[39;49m\u001b[38;5;21;43m__next__\u001b[39;49m\u001b[43m(\u001b[49m\u001b[43m)\u001b[49m\n",
      "\u001b[0;31mStopIteration\u001b[0m: No More value to yield"
     ]
    }
   ],
   "source": [
    "result.__next__()"
   ]
  },
  {
   "cell_type": "code",
   "execution_count": 15,
   "metadata": {},
   "outputs": [
    {
     "data": {
      "text/plain": [
       "['__class__',\n",
       " '__del__',\n",
       " '__delattr__',\n",
       " '__dir__',\n",
       " '__doc__',\n",
       " '__eq__',\n",
       " '__format__',\n",
       " '__ge__',\n",
       " '__getattribute__',\n",
       " '__getstate__',\n",
       " '__gt__',\n",
       " '__hash__',\n",
       " '__init__',\n",
       " '__init_subclass__',\n",
       " '__iter__',\n",
       " '__le__',\n",
       " '__lt__',\n",
       " '__name__',\n",
       " '__ne__',\n",
       " '__new__',\n",
       " '__next__',\n",
       " '__qualname__',\n",
       " '__reduce__',\n",
       " '__reduce_ex__',\n",
       " '__repr__',\n",
       " '__setattr__',\n",
       " '__sizeof__',\n",
       " '__str__',\n",
       " '__subclasshook__',\n",
       " 'close',\n",
       " 'gi_code',\n",
       " 'gi_frame',\n",
       " 'gi_running',\n",
       " 'gi_suspended',\n",
       " 'gi_yieldfrom',\n",
       " 'send',\n",
       " 'throw']"
      ]
     },
     "execution_count": 15,
     "metadata": {},
     "output_type": "execute_result"
    }
   ],
   "source": [
    "dir(result)"
   ]
  },
  {
   "cell_type": "markdown",
   "metadata": {},
   "source": [
    "## Generator objects\n",
    "    - designed for user-defined functions\n",
    "    - disposable\n",
    "    - can't be indexed\n",
    "    - stores the state\n",
    "    - used for large data handling\n",
    "    - State suspension and on-demand computation"
   ]
  },
  {
   "cell_type": "code",
   "execution_count": 16,
   "metadata": {},
   "outputs": [
    {
     "name": "stdout",
     "output_type": "stream",
     "text": [
      "f <generator object foo at 0x79e290972400>\n"
     ]
    }
   ],
   "source": [
    "def foo():\n",
    "    print(\"Start the function!\")\n",
    "    for i in range(3):\n",
    "        print(\"\\tbefore yield\", i)\n",
    "        return i\n",
    "        yield i\n",
    "        print(\"\\tafter yield\", i)\n",
    "\n",
    "    print(\"end of function \")\n",
    "    # return None\n",
    "\n",
    "\n",
    "# call\n",
    "f = foo()\n",
    "print(\"f\", f)"
   ]
  },
  {
   "cell_type": "code",
   "execution_count": 17,
   "metadata": {},
   "outputs": [
    {
     "name": "stdout",
     "output_type": "stream",
     "text": [
      "Start the function!\n",
      "\tbefore yield 0\n"
     ]
    },
    {
     "ename": "StopIteration",
     "evalue": "0",
     "output_type": "error",
     "traceback": [
      "\u001b[0;31m---------------------------------------------------------------------------\u001b[0m",
      "\u001b[0;31mStopIteration\u001b[0m                             Traceback (most recent call last)",
      "Cell \u001b[0;32mIn[17], line 1\u001b[0m\n\u001b[0;32m----> 1\u001b[0m \u001b[38;5;28;43mnext\u001b[39;49m\u001b[43m(\u001b[49m\u001b[43mf\u001b[49m\u001b[43m)\u001b[49m\n",
      "\u001b[0;31mStopIteration\u001b[0m: 0"
     ]
    }
   ],
   "source": [
    "next(f)"
   ]
  },
  {
   "cell_type": "code",
   "execution_count": 18,
   "metadata": {},
   "outputs": [
    {
     "name": "stdout",
     "output_type": "stream",
     "text": [
      "f <generator object foo at 0x79e290973100>\n"
     ]
    }
   ],
   "source": [
    "def foo():\n",
    "    print(\"Start the function!\")\n",
    "    for i in range(3):\n",
    "        print(\"\\tbefore yield\", i)\n",
    "        # return i\n",
    "        yield i\n",
    "        print(\"\\tafter yield\", i)\n",
    "\n",
    "    print(\"end of function \")\n",
    "    # return None\n",
    "\n",
    "\n",
    "# call\n",
    "f = foo()\n",
    "print(\"f\", f)"
   ]
  },
  {
   "cell_type": "code",
   "execution_count": 19,
   "metadata": {},
   "outputs": [
    {
     "name": "stdout",
     "output_type": "stream",
     "text": [
      "Start the function!\n",
      "\tbefore yield 0\n"
     ]
    },
    {
     "data": {
      "text/plain": [
       "0"
      ]
     },
     "execution_count": 19,
     "metadata": {},
     "output_type": "execute_result"
    }
   ],
   "source": [
    "next(f)"
   ]
  },
  {
   "cell_type": "code",
   "execution_count": 20,
   "metadata": {},
   "outputs": [
    {
     "name": "stdout",
     "output_type": "stream",
     "text": [
      "\tafter yield 0\n",
      "\tbefore yield 1\n"
     ]
    },
    {
     "data": {
      "text/plain": [
       "1"
      ]
     },
     "execution_count": 20,
     "metadata": {},
     "output_type": "execute_result"
    }
   ],
   "source": [
    "next(f)"
   ]
  },
  {
   "cell_type": "code",
   "execution_count": 21,
   "metadata": {},
   "outputs": [
    {
     "name": "stdout",
     "output_type": "stream",
     "text": [
      "\tafter yield 1\n",
      "\tbefore yield 2\n"
     ]
    },
    {
     "data": {
      "text/plain": [
       "2"
      ]
     },
     "execution_count": 21,
     "metadata": {},
     "output_type": "execute_result"
    }
   ],
   "source": [
    "f.__next__()"
   ]
  },
  {
   "cell_type": "code",
   "execution_count": 22,
   "metadata": {},
   "outputs": [
    {
     "name": "stdout",
     "output_type": "stream",
     "text": [
      "\tafter yield 2\n",
      "end of function \n",
      "No more values: \n"
     ]
    }
   ],
   "source": [
    "try:\n",
    "    retrieved_value = next(f)\n",
    "except StopIteration as ex:\n",
    "    print(f'No more values: {ex}')  # No Exception message, as no return value/message\n",
    "else:\n",
    "    print(f'{retrieved_value = }')"
   ]
  },
  {
   "cell_type": "code",
   "execution_count": 23,
   "metadata": {},
   "outputs": [
    {
     "name": "stdout",
     "output_type": "stream",
     "text": [
      "f <generator object foo at 0x79e290973ac0>\n"
     ]
    }
   ],
   "source": [
    "def foo():\n",
    "    print(\"Start the function!\")\n",
    "    for i in range(3):\n",
    "        print(\"\\tbefore yield\", i)\n",
    "        # return i\n",
    "        yield i\n",
    "        print(\"\\tafter yield\", i)\n",
    "\n",
    "    print(\"end of function \")\n",
    "    # return None\n",
    "\n",
    "\n",
    "# call\n",
    "f = foo()\n",
    "print(\"f\", f)"
   ]
  },
  {
   "cell_type": "code",
   "execution_count": 24,
   "metadata": {},
   "outputs": [
    {
     "name": "stdout",
     "output_type": "stream",
     "text": [
      "Start the function!\n",
      "\tbefore yield 0\n",
      "\t\tretrieved_value = 0\n",
      "\tafter yield 0\n",
      "\tbefore yield 1\n",
      "\t\tretrieved_value = 1\n",
      "\tafter yield 1\n",
      "\tbefore yield 2\n",
      "\t\tretrieved_value = 2\n",
      "\tafter yield 2\n",
      "end of function \n",
      "No more values: \n"
     ]
    }
   ],
   "source": [
    "while True:\n",
    "    try:\n",
    "        retrieved_value = next(f)\n",
    "    except StopIteration as ex:\n",
    "        print(f'No more values: {ex}') \n",
    "        break\n",
    "    else:\n",
    "        print(f'\\t\\t{retrieved_value = }')"
   ]
  },
  {
   "cell_type": "code",
   "execution_count": 25,
   "metadata": {},
   "outputs": [
    {
     "name": "stdout",
     "output_type": "stream",
     "text": [
      "f <generator object foo at 0x79e2909e8930>\n",
      "Start the function!\n",
      "\tbefore yield 0\n",
      "\t\tretrieved_value = 0\n",
      "\tafter yield 0\n",
      "\tbefore yield 1\n",
      "\t\tretrieved_value = 1\n",
      "\tafter yield 1\n",
      "\tbefore yield 2\n",
      "\t\tretrieved_value = 2\n",
      "\tafter yield 2\n",
      "end of function \n",
      "No more values: End of the Sequences\n"
     ]
    }
   ],
   "source": [
    "def foo():\n",
    "    print(\"Start the function!\")\n",
    "    for i in range(3):\n",
    "        print(\"\\tbefore yield\", i)\n",
    "        # return i\n",
    "        yield i\n",
    "        print(\"\\tafter yield\", i)\n",
    "\n",
    "    print(\"end of function \")\n",
    "    return \"End of the Sequences\"\n",
    "\n",
    "\n",
    "# call\n",
    "f = foo()\n",
    "print(\"f\", f)\n",
    "\n",
    "while True:\n",
    "    try:\n",
    "        retrieved_value = next(f)\n",
    "    except StopIteration as ex:\n",
    "        print(f'No more values: {ex}') \n",
    "        break\n",
    "    else:\n",
    "        print(f'\\t\\t{retrieved_value = }')"
   ]
  },
  {
   "cell_type": "code",
   "execution_count": 26,
   "metadata": {},
   "outputs": [
    {
     "name": "stdout",
     "output_type": "stream",
     "text": [
      "f <generator object foo at 0x79e290971be0>\n",
      "Start the function!\n",
      "\tbefore yield 0\n",
      "\t\tretrieved_value = 2\n",
      "\tafter yield 0\n",
      "\tbefore yield 1\n",
      "\t\tretrieved_value = 2\n",
      "\tafter yield 1\n",
      "\tbefore yield 2\n",
      "\t\tretrieved_value = 2\n",
      "\tafter yield 2\n",
      "end of function \n"
     ]
    }
   ],
   "source": [
    "def foo():\n",
    "    print(\"Start the function!\")\n",
    "    for i in range(3):\n",
    "        print(\"\\tbefore yield\", i)\n",
    "        # return i\n",
    "        yield i\n",
    "        print(\"\\tafter yield\", i)\n",
    "\n",
    "    print(\"end of function \")\n",
    "    return \"End of the Sequences\"\n",
    "\n",
    "\n",
    "# call\n",
    "f = foo()\n",
    "print(\"f\", f)\n",
    "\n",
    "for value in f:\n",
    "        print(f'\\t\\t{retrieved_value = }')"
   ]
  },
  {
   "cell_type": "code",
   "execution_count": 27,
   "metadata": {},
   "outputs": [],
   "source": [
    "# NOTE: for loop is a controlled loop . it knows its boundaries"
   ]
  },
  {
   "cell_type": "markdown",
   "metadata": {},
   "source": [
    "## Problem - Fibonacci Series\n",
    "    - first two values are 0 & 1\n",
    "    - subseqeunt values are summation of previous two values\n",
    "    - 0, 1, 1, 2, 3, 5, 8, 13, ..."
   ]
  },
  {
   "cell_type": "code",
   "execution_count": 28,
   "metadata": {},
   "outputs": [
    {
     "name": "stdout",
     "output_type": "stream",
     "text": [
      "nth_number =[0, 1, 1, 2, 3, 5, 8, 13, 21, 34]\n"
     ]
    }
   ],
   "source": [
    "# Method 1 - with for loop\n",
    "def fib_series(pos):\n",
    "    \"\"\"\n",
    "        numbers -  0, 1, 1, 2, 3, 5, 8, 13, ...\n",
    "        indexes -  0  1  2  3  4  5  6  7 ...\n",
    "    \"\"\"\n",
    "    fib_nums = []\n",
    "    first, second = 0, 1\n",
    "    for i in range(0, pos):\n",
    "        fib_nums.append(first)\n",
    "        first, second = second, first + second\n",
    "    return fib_nums\n",
    "\n",
    "nth_number = fib_series(10)\n",
    "print(f'{nth_number =}')"
   ]
  },
  {
   "cell_type": "code",
   "execution_count": 29,
   "metadata": {},
   "outputs": [
    {
     "name": "stdout",
     "output_type": "stream",
     "text": [
      "nth_number =<generator object fib_series at 0x79e290980900>\n"
     ]
    }
   ],
   "source": [
    "# Method 1 - with genrators\n",
    "def fib_series(pos):\n",
    "    \"\"\"\n",
    "        numbers -  0, 1, 1, 2, 3, 5, 8, 13, ...\n",
    "        indexes -  0  1  2  3  4  5  6  7 ...\n",
    "    \"\"\"\n",
    "    first, second = 0, 1\n",
    "    for i in range(0, pos):\n",
    "        yield first\n",
    "        first, second = second, first + second\n",
    "    return \"End of Sequence\"\n",
    "\n",
    "nth_number = fib_series(10)\n",
    "print(f'{nth_number =}')"
   ]
  },
  {
   "cell_type": "code",
   "execution_count": 30,
   "metadata": {},
   "outputs": [
    {
     "name": "stdout",
     "output_type": "stream",
     "text": [
      "0\n",
      "1\n",
      "1\n",
      "2\n",
      "3\n",
      "5\n",
      "8\n",
      "13\n",
      "21\n",
      "34\n"
     ]
    }
   ],
   "source": [
    "for num in nth_number:\n",
    "    print(num)"
   ]
  },
  {
   "cell_type": "code",
   "execution_count": 31,
   "metadata": {},
   "outputs": [
    {
     "name": "stdout",
     "output_type": "stream",
     "text": [
      "nth_number =<generator object fib_series at 0x79e290980580>\n"
     ]
    }
   ],
   "source": [
    "# Method 1 - with genrators , with while loop\n",
    "def fib_series(pos):\n",
    "    \"\"\"\n",
    "        numbers -  0, 1, 1, 2, 3, 5, 8, 13, ...\n",
    "        indexes -  0  1  2  3  4  5  6  7 ...\n",
    "    \"\"\"\n",
    "    first, second = 0, 1\n",
    "    i = 0\n",
    "    while i < pos:\n",
    "        yield first\n",
    "        first, second = second, first + second\n",
    "        i += 1\n",
    "    return \"End of Sequence\"\n",
    "\n",
    "nth_number = fib_series(10)\n",
    "print(f'{nth_number =}')"
   ]
  },
  {
   "cell_type": "code",
   "execution_count": 32,
   "metadata": {},
   "outputs": [
    {
     "name": "stdout",
     "output_type": "stream",
     "text": [
      "0\n",
      "1\n",
      "1\n",
      "2\n",
      "3\n",
      "5\n",
      "8\n",
      "13\n",
      "21\n",
      "34\n"
     ]
    }
   ],
   "source": [
    "for num in nth_number:\n",
    "    print(num)"
   ]
  },
  {
   "cell_type": "markdown",
   "metadata": {},
   "source": [
    "### yield from"
   ]
  },
  {
   "cell_type": "code",
   "execution_count": 33,
   "metadata": {},
   "outputs": [
    {
     "name": "stdout",
     "output_type": "stream",
     "text": [
      "list(ng) = [0, 1, 2, 3, 4, 5, 6, 7, 8, 9]\n"
     ]
    }
   ],
   "source": [
    "def num_generator(n):\n",
    "    for i in range(n):\n",
    "        yield i\n",
    "\n",
    "\n",
    "ng = num_generator(10)\n",
    "print(f\"{list(ng) = }\")"
   ]
  },
  {
   "cell_type": "code",
   "execution_count": 34,
   "metadata": {},
   "outputs": [
    {
     "name": "stdout",
     "output_type": "stream",
     "text": [
      "tuple(sp) =(144, 1156, 3136, 6084, 8100)\n"
     ]
    }
   ],
   "source": [
    "def sequence_parser(mylist):\n",
    "    for ele in mylist:\n",
    "        yield ele ** 2\n",
    "\n",
    "\n",
    "sp = sequence_parser([12, 34, 56, 78, 90])\n",
    "print(f\"{tuple(sp) =}\")"
   ]
  },
  {
   "cell_type": "code",
   "execution_count": 35,
   "metadata": {},
   "outputs": [
    {
     "name": "stdout",
     "output_type": "stream",
     "text": [
      "list(ng) = [0, 1, 2, 3, 4, 5, 6, 7, 8, 9]\n"
     ]
    }
   ],
   "source": [
    "def num_generator(n):\n",
    "    # for i in range(n):\n",
    "    #     yield i\n",
    "    yield from range(n)\n",
    "\n",
    "ng = num_generator(10)\n",
    "print(f\"{list(ng) = }\")"
   ]
  },
  {
   "cell_type": "code",
   "execution_count": 36,
   "metadata": {},
   "outputs": [
    {
     "name": "stdout",
     "output_type": "stream",
     "text": [
      "tuple(sp) =(12, 34, 56, 78, 90)\n"
     ]
    }
   ],
   "source": [
    "def sequence_parser(mylist):\n",
    "    # for ele in mylist:\n",
    "    #     yield ele ** 2\n",
    "    yield from mylist  #  LImittaion : opertaions in the iterating value\n",
    "\n",
    "\n",
    "sp = sequence_parser([12, 34, 56, 78, 90])\n",
    "print(f\"{tuple(sp) =}\")"
   ]
  },
  {
   "cell_type": "markdown",
   "metadata": {},
   "source": [
    "### generator_pipeline\n",
    "    Problem statement\n",
    "        - For given numbers\n",
    "            - Filter even number\n",
    "            - multiply by three\n",
    "            - convert to string"
   ]
  },
  {
   "cell_type": "code",
   "execution_count": 37,
   "metadata": {},
   "outputs": [
    {
     "data": {
      "text/plain": [
       "['6', '12', '18', '24']"
      ]
     },
     "execution_count": 37,
     "metadata": {},
     "output_type": "execute_result"
    }
   ],
   "source": [
    "def myfunc(numbers):\n",
    "    result = []\n",
    "    for num in numbers:\n",
    "        if num % 2 == 0:\n",
    "            result.append(str(num * 3))\n",
    "    return result\n",
    "\n",
    "myfunc([1, 2, 3, 4, 5, 6, 7, 8])"
   ]
  },
  {
   "cell_type": "code",
   "execution_count": 38,
   "metadata": {},
   "outputs": [
    {
     "data": {
      "text/plain": [
       "['6', '12', '18', '24']"
      ]
     },
     "execution_count": 38,
     "metadata": {},
     "output_type": "execute_result"
    }
   ],
   "source": [
    "def my_func(nums):\n",
    "    for i in nums:\n",
    "        if i % 2 == 0:\n",
    "            yield str(i*3)\n",
    "\n",
    "list(my_func([1, 2, 3, 4, 5, 6, 7, 8]))"
   ]
  },
  {
   "cell_type": "code",
   "execution_count": 39,
   "metadata": {},
   "outputs": [
    {
     "name": "stdout",
     "output_type": "stream",
     "text": [
      "even_filter - start\n",
      "multiply_by_three - start\n",
      "convert_to_string - start\n",
      "result = ['Number:6', 'Number:12', 'Number:18', 'Number:24']\n"
     ]
    }
   ],
   "source": [
    "# Method 1  - pipeline\n",
    "\n",
    "def even_filter(nums):\n",
    "    print(\"even_filter - start\")\n",
    "    even_nums = []\n",
    "    for num in nums:\n",
    "        if num % 2 == 0:\n",
    "            even_nums.append(num)\n",
    "    return even_nums\n",
    "\n",
    "\n",
    "def multiply_by_three(nums):\n",
    "    print(\"multiply_by_three - start\")\n",
    "    muls_of_3 = []\n",
    "    for num in nums:\n",
    "        muls_of_3.append(num * 3)\n",
    "\n",
    "    return muls_of_3\n",
    "\n",
    "\n",
    "def convert_to_string(nums):\n",
    "    print(\"convert_to_string - start\")\n",
    "    num_strs = []\n",
    "    for num in nums:\n",
    "        num_strs.append(f\"Number:{num}\")\n",
    "\n",
    "    return num_strs\n",
    "\n",
    "numbers = [1, 2, 3, 4, 5, 6, 7, 8]\n",
    "result = convert_to_string(\n",
    "            multiply_by_three(\n",
    "                    even_filter(numbers)\n",
    "            )\n",
    "        )\n",
    "print(f\"{result = }\")"
   ]
  },
  {
   "cell_type": "code",
   "execution_count": 40,
   "metadata": {},
   "outputs": [
    {
     "name": "stdout",
     "output_type": "stream",
     "text": [
      "multiply_by_three - start\n",
      "even_filter - start\n",
      "convert_to_string - start\n",
      "result = ['Number:6', 'Number:12', 'Number:18', 'Number:24']\n"
     ]
    }
   ],
   "source": [
    "result = convert_to_string(\n",
    "            even_filter(\n",
    "                    multiply_by_three(numbers)\n",
    "            )\n",
    "        )\n",
    "print(f\"{result = }\")"
   ]
  },
  {
   "cell_type": "code",
   "execution_count": 41,
   "metadata": {},
   "outputs": [
    {
     "name": "stdout",
     "output_type": "stream",
     "text": [
      "pipeline = <generator object convert_to_string at 0x79e290815ff0>\n"
     ]
    }
   ],
   "source": [
    "# Method 2\n",
    "def even_filter(nums):\n",
    "    print(\"even_filter - start\")\n",
    "    for num in nums:\n",
    "        if num % 2 == 0:\n",
    "            yield num\n",
    "\n",
    "\n",
    "def multiply_by_three(nums):\n",
    "    print(\"multiply_by_three - start\")\n",
    "    for num in nums:\n",
    "        yield num * 3\n",
    "\n",
    "\n",
    "def convert_to_string(nums):\n",
    "    print(\"convert_to_string - start\")\n",
    "    for num in nums:\n",
    "        yield f\"Number:{num}\"\n",
    "\n",
    "\n",
    "numbers = [1, 2, 3, 4, 5, 6, 7, 8, 9, 10]\n",
    "pipeline = convert_to_string(\n",
    "            multiply_by_three(\n",
    "                    even_filter(numbers)\n",
    "            )\n",
    "        )\n",
    "print(f\"{pipeline = }\")"
   ]
  },
  {
   "cell_type": "code",
   "execution_count": 42,
   "metadata": {},
   "outputs": [
    {
     "name": "stdout",
     "output_type": "stream",
     "text": [
      "convert_to_string - start\n",
      "multiply_by_three - start\n",
      "even_filter - start\n"
     ]
    },
    {
     "data": {
      "text/plain": [
       "'Number:6'"
      ]
     },
     "execution_count": 42,
     "metadata": {},
     "output_type": "execute_result"
    }
   ],
   "source": [
    "next(pipeline)"
   ]
  },
  {
   "cell_type": "code",
   "execution_count": 43,
   "metadata": {},
   "outputs": [
    {
     "data": {
      "text/plain": [
       "'Number:12'"
      ]
     },
     "execution_count": 43,
     "metadata": {},
     "output_type": "execute_result"
    }
   ],
   "source": [
    "next(pipeline)"
   ]
  },
  {
   "cell_type": "code",
   "execution_count": 44,
   "metadata": {},
   "outputs": [
    {
     "data": {
      "text/plain": [
       "'Number:18'"
      ]
     },
     "execution_count": 44,
     "metadata": {},
     "output_type": "execute_result"
    }
   ],
   "source": [
    "next(pipeline)"
   ]
  },
  {
   "cell_type": "code",
   "execution_count": 45,
   "metadata": {},
   "outputs": [
    {
     "data": {
      "text/plain": [
       "'Number:24'"
      ]
     },
     "execution_count": 45,
     "metadata": {},
     "output_type": "execute_result"
    }
   ],
   "source": [
    "next(pipeline)"
   ]
  },
  {
   "cell_type": "code",
   "execution_count": 46,
   "metadata": {},
   "outputs": [
    {
     "data": {
      "text/plain": [
       "['Number:30']"
      ]
     },
     "execution_count": 46,
     "metadata": {},
     "output_type": "execute_result"
    }
   ],
   "source": [
    "list(pipeline)"
   ]
  },
  {
   "cell_type": "markdown",
   "metadata": {},
   "source": [
    "### Generator Expressions and chained generator Expressions"
   ]
  },
  {
   "cell_type": "code",
   "execution_count": 47,
   "metadata": {},
   "outputs": [
    {
     "name": "stdout",
     "output_type": "stream",
     "text": [
      "[0, 1, 2, 3, 4, 5, 6] <class 'list'>\n",
      "{0, 1, 2, 3, 4, 5, 6} <class 'set'>\n",
      "{0: 0, 1: 1, 2: 4, 3: 9, 4: 16, 5: 25, 6: 36} <class 'dict'>\n"
     ]
    }
   ],
   "source": [
    "listCompr = [i for i in range(7)]\n",
    "print(f\"{listCompr} {type(listCompr)}\")\n",
    "\n",
    "setCompr = {i for i in range(7)}\n",
    "print(f\"{setCompr} {type(setCompr)}\")\n",
    "\n",
    "dictCompr = {i: i**2 for i in range(7)}\n",
    "print(f\"{dictCompr} {type(dictCompr)}\")"
   ]
  },
  {
   "cell_type": "code",
   "execution_count": 48,
   "metadata": {},
   "outputs": [
    {
     "name": "stdout",
     "output_type": "stream",
     "text": [
      "<generator object <genexpr> at 0x79e291f6f100> <class 'generator'>\n"
     ]
    }
   ],
   "source": [
    "genExpr = (i for i in range(7))\n",
    "print(f\"{genExpr} {type(genExpr)}\")  # generator"
   ]
  },
  {
   "cell_type": "code",
   "execution_count": 49,
   "metadata": {},
   "outputs": [
    {
     "name": "stdout",
     "output_type": "stream",
     "text": [
      "\n",
      "\n",
      "    sys.getsizeof(listCompr) =120\n",
      "    sys.getsizeof(setCompr) = 728\n",
      "    sys.getsizeof(dictCompr) = 352\n",
      "    sys.getsizeof(genExpr) = 192\n",
      "\n",
      "\n",
      "\n"
     ]
    }
   ],
   "source": [
    "import sys\n",
    "\n",
    "print(\n",
    "    f\"\"\"\n",
    "\n",
    "    {sys.getsizeof(listCompr) =}\n",
    "    {sys.getsizeof(setCompr) = }\n",
    "    {sys.getsizeof(dictCompr) = }\n",
    "    {sys.getsizeof(genExpr) = }\n",
    "\n",
    "\n",
    "\"\"\"\n",
    ")"
   ]
  },
  {
   "cell_type": "code",
   "execution_count": 50,
   "metadata": {},
   "outputs": [
    {
     "name": "stdout",
     "output_type": "stream",
     "text": [
      "<class 'generator'> <generator object <genexpr> at 0x79e291f6cf40>\n",
      "0\n",
      "-1\n",
      "-4\n",
      "-9\n",
      "-16\n",
      "-25\n",
      "-36\n",
      "-49\n"
     ]
    }
   ],
   "source": [
    "# pipeline\n",
    "\n",
    "\n",
    "integers = list(range(8))\n",
    "squared = (i * i for i in integers)\n",
    "negated = (-i for i in squared)\n",
    "\n",
    "print(type(negated), negated)\n",
    "for each in negated:\n",
    "    print(each)"
   ]
  },
  {
   "cell_type": "code",
   "execution_count": 51,
   "metadata": {},
   "outputs": [
    {
     "name": "stdout",
     "output_type": "stream",
     "text": [
      "[0, -1, -4, -9, -16, -25, -36, -49]\n"
     ]
    }
   ],
   "source": [
    "squared = (i * i for i in integers)\n",
    "negated = (-i for i in squared)\n",
    "\n",
    "print(list(negated))"
   ]
  },
  {
   "cell_type": "code",
   "execution_count": null,
   "metadata": {},
   "outputs": [],
   "source": []
  }
 ],
 "metadata": {
  "kernelspec": {
   "display_name": "Python 3",
   "language": "python",
   "name": "python3"
  },
  "language_info": {
   "codemirror_mode": {
    "name": "ipython",
    "version": 3
   },
   "file_extension": ".py",
   "mimetype": "text/x-python",
   "name": "python",
   "nbconvert_exporter": "python",
   "pygments_lexer": "ipython3",
   "version": "3.12.1"
  }
 },
 "nbformat": 4,
 "nbformat_minor": 2
}
