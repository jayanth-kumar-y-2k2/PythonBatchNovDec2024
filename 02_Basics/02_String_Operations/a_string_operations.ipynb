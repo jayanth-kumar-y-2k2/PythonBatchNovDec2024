{
 "cells": [
  {
   "cell_type": "markdown",
   "metadata": {},
   "source": [
    "## String Operations"
   ]
  },
  {
   "cell_type": "markdown",
   "metadata": {},
   "source": [
    "    Strings can be represented using\n",
    "        1) single quotes,\n",
    "        2) double quotes, or\n",
    "        3) triple single quotes or\n",
    "        4) triple double quotes"
   ]
  },
  {
   "cell_type": "code",
   "execution_count": 1,
   "metadata": {},
   "outputs": [
    {
     "name": "stdout",
     "output_type": "stream",
     "text": [
      "Python Programming <class 'str'>\n"
     ]
    }
   ],
   "source": [
    "# String with single quotes\n",
    "language = 'Python Programming'\n",
    "print(language, type(language))"
   ]
  },
  {
   "cell_type": "code",
   "execution_count": 2,
   "metadata": {},
   "outputs": [
    {
     "name": "stdout",
     "output_type": "stream",
     "text": [
      "Python Programming <class 'str'>\n"
     ]
    }
   ],
   "source": [
    "# String with double quotes\n",
    "language = \"Python Programming\"\n",
    "print(language, type(language))"
   ]
  },
  {
   "cell_type": "code",
   "execution_count": 3,
   "metadata": {},
   "outputs": [
    {
     "name": "stdout",
     "output_type": "stream",
     "text": [
      "Python Programming <class 'str'>\n"
     ]
    }
   ],
   "source": [
    "# String with triple single quotes\n",
    "language = '''Python Programming'''\n",
    "print(language, type(language))"
   ]
  },
  {
   "cell_type": "code",
   "execution_count": 4,
   "metadata": {},
   "outputs": [
    {
     "name": "stdout",
     "output_type": "stream",
     "text": [
      "Python Programming <class 'str'>\n"
     ]
    }
   ],
   "source": [
    "# String with triple double quotes\n",
    "language = \"\"\"Python Programming\"\"\"\n",
    "print(language, type(language))"
   ]
  },
  {
   "cell_type": "markdown",
   "metadata": {},
   "source": [
    "NOTE: PEP 8 -> Use triple quotes for doc strings"
   ]
  },
  {
   "cell_type": "markdown",
   "metadata": {},
   "source": [
    "### Importance and usage of multiple quotes"
   ]
  },
  {
   "cell_type": "code",
   "execution_count": 5,
   "metadata": {},
   "outputs": [
    {
     "name": "stdout",
     "output_type": "stream",
     "text": [
      "Python Programming <class 'str'>\n"
     ]
    }
   ],
   "source": [
    "language = 'Python Programming'\n",
    "print(language, type(language))"
   ]
  },
  {
   "cell_type": "code",
   "execution_count": 6,
   "metadata": {},
   "outputs": [
    {
     "name": "stdout",
     "output_type": "stream",
     "text": [
      "How are you ? <class 'str'>\n"
     ]
    }
   ],
   "source": [
    "question = \"How are you ?\"\n",
    "print(question, type(question))"
   ]
  },
  {
   "cell_type": "code",
   "execution_count": 7,
   "metadata": {},
   "outputs": [
    {
     "ename": "SyntaxError",
     "evalue": "unterminated string literal (detected at line 1) (3503667590.py, line 1)",
     "output_type": "error",
     "traceback": [
      "\u001b[0;36m  Cell \u001b[0;32mIn[7], line 1\u001b[0;36m\u001b[0m\n\u001b[0;31m    where_abouts = 'what's up !'\u001b[0m\n\u001b[0m                               ^\u001b[0m\n\u001b[0;31mSyntaxError\u001b[0m\u001b[0;31m:\u001b[0m unterminated string literal (detected at line 1)\n"
     ]
    }
   ],
   "source": [
    "where_abouts = 'what's up !'"
   ]
  },
  {
   "cell_type": "code",
   "execution_count": 8,
   "metadata": {},
   "outputs": [
    {
     "name": "stdout",
     "output_type": "stream",
     "text": [
      "what's up ! <class 'str'>\n"
     ]
    }
   ],
   "source": [
    "where_abouts = 'what\\'s up !'\n",
    "print(where_abouts, type(where_abouts))"
   ]
  },
  {
   "cell_type": "code",
   "execution_count": 9,
   "metadata": {},
   "outputs": [],
   "source": [
    "# Note 1: Placing \\ before any operator with result\n",
    "# in treating operator as a ordinary character"
   ]
  },
  {
   "cell_type": "code",
   "execution_count": 10,
   "metadata": {},
   "outputs": [
    {
     "ename": "SyntaxError",
     "evalue": "unterminated string literal (detected at line 1) (4043966233.py, line 1)",
     "output_type": "error",
     "traceback": [
      "\u001b[0;36m  Cell \u001b[0;32mIn[10], line 1\u001b[0;36m\u001b[0m\n\u001b[0;31m    other_string = 'what's going in your's law's house'\u001b[0m\n\u001b[0m                                                      ^\u001b[0m\n\u001b[0;31mSyntaxError\u001b[0m\u001b[0;31m:\u001b[0m unterminated string literal (detected at line 1)\n"
     ]
    }
   ],
   "source": [
    "other_string = 'what's going in your's law's house'"
   ]
  },
  {
   "cell_type": "code",
   "execution_count": 11,
   "metadata": {},
   "outputs": [
    {
     "name": "stdout",
     "output_type": "stream",
     "text": [
      "what's going in your's law's house\n"
     ]
    }
   ],
   "source": [
    "other_string = \"what's going in your's law's house\"\n",
    "print(other_string)"
   ]
  },
  {
   "cell_type": "code",
   "execution_count": 12,
   "metadata": {},
   "outputs": [
    {
     "ename": "SyntaxError",
     "evalue": "invalid syntax (1463427495.py, line 1)",
     "output_type": "error",
     "traceback": [
      "\u001b[0;36m  Cell \u001b[0;32mIn[12], line 1\u001b[0;36m\u001b[0m\n\u001b[0;31m    sql_command = \"select * from mytable where name = 'udhay' and profession like \"%work\"\"\u001b[0m\n\u001b[0m                                                                                        ^\u001b[0m\n\u001b[0;31mSyntaxError\u001b[0m\u001b[0;31m:\u001b[0m invalid syntax\n"
     ]
    }
   ],
   "source": [
    "sql_command = \"select * from mytable where name = 'udhay' and profession like \"%work\"\""
   ]
  },
  {
   "cell_type": "code",
   "execution_count": 13,
   "metadata": {},
   "outputs": [
    {
     "name": "stdout",
     "output_type": "stream",
     "text": [
      "select * from mytable where name = 'udhay' and profession like \"%work\"\n"
     ]
    }
   ],
   "source": [
    "sql_command = '''select * from mytable where name = 'udhay' and profession like \"%work\"'''\n",
    "print(sql_command)"
   ]
  },
  {
   "cell_type": "code",
   "execution_count": 14,
   "metadata": {},
   "outputs": [
    {
     "name": "stdout",
     "output_type": "stream",
     "text": [
      " python -c 'awdwad' asds \"sfdffdg\", '''kjgvekqrwhro2y3o'''\n"
     ]
    }
   ],
   "source": [
    "some_other_str = \"\"\" python -c 'awdwad' asds \"sfdffdg\", '''kjgvekqrwhro2y3o'''\"\"\"\n",
    "print(some_other_str)"
   ]
  },
  {
   "cell_type": "code",
   "execution_count": 15,
   "metadata": {},
   "outputs": [],
   "source": [
    "#### Multi Line strings"
   ]
  },
  {
   "cell_type": "code",
   "execution_count": 16,
   "metadata": {},
   "outputs": [
    {
     "ename": "SyntaxError",
     "evalue": "unterminated string literal (detected at line 2) (4141887658.py, line 2)",
     "output_type": "error",
     "traceback": [
      "\u001b[0;36m  Cell \u001b[0;32mIn[16], line 2\u001b[0;36m\u001b[0m\n\u001b[0;31m    'Today is an awesome day\u001b[0m\n\u001b[0m    ^\u001b[0m\n\u001b[0;31mSyntaxError\u001b[0m\u001b[0;31m:\u001b[0m unterminated string literal (detected at line 2)\n"
     ]
    }
   ],
   "source": [
    "print(\n",
    "    'Today is an awesome day\n",
    "    to learn python'\n",
    ")"
   ]
  },
  {
   "cell_type": "code",
   "execution_count": 17,
   "metadata": {},
   "outputs": [
    {
     "name": "stdout",
     "output_type": "stream",
     "text": [
      "Today is an awesome day    to learn python\n"
     ]
    }
   ],
   "source": [
    "print(\n",
    "    'Today is an awesome day\\\n",
    "    to learn python'\n",
    ")\n",
    "\n",
    "# \\ line continuation operator"
   ]
  },
  {
   "cell_type": "code",
   "execution_count": 18,
   "metadata": {},
   "outputs": [
    {
     "name": "stdout",
     "output_type": "stream",
     "text": [
      "Today is an awesome day    to learn python\n"
     ]
    }
   ],
   "source": [
    "print(\n",
    "    \"Today is an awesome day\\\n",
    "    to learn python\"\n",
    ")"
   ]
  },
  {
   "cell_type": "code",
   "execution_count": 19,
   "metadata": {},
   "outputs": [
    {
     "name": "stdout",
     "output_type": "stream",
     "text": [
      "Today is an awesome day    to learn python\n"
     ]
    }
   ],
   "source": [
    "print(\n",
    "    '''Today is an awesome day\\\n",
    "    to learn python'''\n",
    ")"
   ]
  },
  {
   "cell_type": "code",
   "execution_count": 20,
   "metadata": {},
   "outputs": [
    {
     "name": "stdout",
     "output_type": "stream",
     "text": [
      "Today is an awesome day    to learn python\n"
     ]
    }
   ],
   "source": [
    "print(\n",
    "    \"\"\"Today is an awesome day\\\n",
    "    to learn python\"\"\"\n",
    ")"
   ]
  },
  {
   "cell_type": "markdown",
   "metadata": {},
   "source": [
    "By default, triple quote strings are designed for multiline"
   ]
  },
  {
   "cell_type": "code",
   "execution_count": 21,
   "metadata": {},
   "outputs": [
    {
     "name": "stdout",
     "output_type": "stream",
     "text": [
      "Today is an awesome day\n",
      "    to learn python\n"
     ]
    }
   ],
   "source": [
    "print(\n",
    "    '''Today is an awesome day\n",
    "    to learn python'''\n",
    ")"
   ]
  },
  {
   "cell_type": "code",
   "execution_count": 22,
   "metadata": {},
   "outputs": [
    {
     "name": "stdout",
     "output_type": "stream",
     "text": [
      "Today is an awesome day\n",
      "    to learn python\n"
     ]
    }
   ],
   "source": [
    "print(\n",
    "    \"\"\"Today is an awesome day\n",
    "    to learn python\"\"\"\n",
    ")"
   ]
  },
  {
   "cell_type": "code",
   "execution_count": 23,
   "metadata": {},
   "outputs": [
    {
     "name": "stdout",
     "output_type": "stream",
     "text": [
      "\n",
      "    A - Apple\n",
      "    B - Ball\n",
      "    C - Cat\n",
      "    D - Dog\n",
      "\n"
     ]
    }
   ],
   "source": [
    "print(\n",
    "    \"\"\"\n",
    "    A - Apple\n",
    "    B - Ball\n",
    "    C - Cat\n",
    "    D - Dog\n",
    "\"\"\"\n",
    ")"
   ]
  },
  {
   "cell_type": "code",
   "execution_count": 24,
   "metadata": {},
   "outputs": [
    {
     "name": "stdout",
     "output_type": "stream",
     "text": [
      "\n",
      "    select * \n",
      "    from table1 t1\n",
      "    LEFT JOIN table t2 on t1.id = t2.id\n",
      "    ORDER BY ti.id;\n",
      "\n"
     ]
    }
   ],
   "source": [
    "sql_cmd = '''\n",
    "    select * \n",
    "    from table1 t1\n",
    "    LEFT JOIN table t2 on t1.id = t2.id\n",
    "    ORDER BY ti.id;\n",
    "'''\n",
    "print(sql_cmd)"
   ]
  },
  {
   "cell_type": "code",
   "execution_count": 25,
   "metadata": {},
   "outputs": [
    {
     "name": "stdout",
     "output_type": "stream",
     "text": [
      "select * from my_table where column='python' and column2=\"django\"\n"
     ]
    }
   ],
   "source": [
    "my_string = '''select * from my_table where column='python' and column2=\"django\"'''\n",
    "print(my_string)"
   ]
  },
  {
   "cell_type": "code",
   "execution_count": 26,
   "metadata": {},
   "outputs": [
    {
     "ename": "SyntaxError",
     "evalue": "unterminated string literal (detected at line 1) (3284080059.py, line 1)",
     "output_type": "error",
     "traceback": [
      "\u001b[0;36m  Cell \u001b[0;32mIn[26], line 1\u001b[0;36m\u001b[0m\n\u001b[0;31m    my_string = \"\"\" select * from my_table where column='python' and column2=\"django\"\"\"\"\u001b[0m\n\u001b[0m                                                                                       ^\u001b[0m\n\u001b[0;31mSyntaxError\u001b[0m\u001b[0;31m:\u001b[0m unterminated string literal (detected at line 1)\n"
     ]
    }
   ],
   "source": [
    "my_string = \"\"\" select * from my_table where column='python' and column2=\"django\"\"\"\"\n"
   ]
  },
  {
   "cell_type": "code",
   "execution_count": 27,
   "metadata": {},
   "outputs": [],
   "source": [
    "my_string = \"\"\" select * from my_table where column='python' and column2=\"django\" \"\"\"\n"
   ]
  },
  {
   "cell_type": "code",
   "execution_count": 28,
   "metadata": {},
   "outputs": [],
   "source": [
    "my_string = \"\"\" select * from my_table where column='python' and column2=\"django\";\"\"\"\n"
   ]
  },
  {
   "cell_type": "markdown",
   "metadata": {},
   "source": [
    "#### String Indexing"
   ]
  },
  {
   "cell_type": "code",
   "execution_count": 30,
   "metadata": {},
   "outputs": [
    {
     "name": "stdout",
     "output_type": "stream",
     "text": [
      "Python programming <class 'str'>\n"
     ]
    }
   ],
   "source": [
    "language = 'Python programming'\n",
    "print(language, type(language))"
   ]
  },
  {
   "cell_type": "code",
   "execution_count": 31,
   "metadata": {},
   "outputs": [
    {
     "name": "stdout",
     "output_type": "stream",
     "text": [
      "len(language)= 18\n"
     ]
    }
   ],
   "source": [
    "# len\n",
    "print(\"len(language)=\", len(language))"
   ]
  },
  {
   "cell_type": "code",
   "execution_count": 32,
   "metadata": {},
   "outputs": [],
   "source": [
    "# P   y t h o n   P r  o g  r  a  m  m  i  n  g\n",
    "# 0   1 2 3 4 5 6 7 8  9 10 11 12 13 14 15 16 17 - forward indexing\n",
    "# -18 - - - - - - - - -9 -8 -7 -6 -5 -4 -3 -2 -1 - reverse indexing\n",
    "\n",
    "# Note: Indexing starts with 0"
   ]
  },
  {
   "cell_type": "code",
   "execution_count": 33,
   "metadata": {},
   "outputs": [
    {
     "name": "stdout",
     "output_type": "stream",
     "text": [
      "language     : Python programming\n",
      "language[14] : m\n",
      "language[6]  :  \n",
      "language[17] : g\n"
     ]
    }
   ],
   "source": [
    "print(\"language     :\", language)\n",
    "print(\"language[14] :\", language[14])\n",
    "print(\"language[6]  :\", language[6])\n",
    "print(\"language[17] :\", language[17])"
   ]
  },
  {
   "cell_type": "code",
   "execution_count": 34,
   "metadata": {},
   "outputs": [
    {
     "ename": "IndexError",
     "evalue": "string index out of range",
     "output_type": "error",
     "traceback": [
      "\u001b[0;31m---------------------------------------------------------------------------\u001b[0m",
      "\u001b[0;31mIndexError\u001b[0m                                Traceback (most recent call last)",
      "Cell \u001b[0;32mIn[34], line 1\u001b[0m\n\u001b[0;32m----> 1\u001b[0m \u001b[38;5;28mprint\u001b[39m(\u001b[38;5;124m\"\u001b[39m\u001b[38;5;124mlanguage[18] :\u001b[39m\u001b[38;5;124m\"\u001b[39m, \u001b[43mlanguage\u001b[49m\u001b[43m[\u001b[49m\u001b[38;5;241;43m18\u001b[39;49m\u001b[43m]\u001b[49m)\n",
      "\u001b[0;31mIndexError\u001b[0m: string index out of range"
     ]
    }
   ],
   "source": [
    "print(\"language[18] :\", language[18])"
   ]
  },
  {
   "cell_type": "code",
   "execution_count": 36,
   "metadata": {},
   "outputs": [
    {
     "name": "stdout",
     "output_type": "stream",
     "text": [
      "language[0]  : P\n",
      "language[-0] : P\n"
     ]
    }
   ],
   "source": [
    "print(\"language[0]  :\", language[0])\n",
    "print(\"language[-0] :\", language[-0])"
   ]
  },
  {
   "cell_type": "code",
   "execution_count": 37,
   "metadata": {},
   "outputs": [
    {
     "name": "stdout",
     "output_type": "stream",
     "text": [
      "language[-3]  : i\n",
      "len(language) : 18\n",
      "language[len(language)-3]:  i\n"
     ]
    }
   ],
   "source": [
    "print(\"language[-3]  :\", language[-3])\n",
    "print(\"len(language) :\", len(language))\n",
    "print(\"language[len(language)-3]: \", language[len(language)-3])\n"
   ]
  },
  {
   "cell_type": "code",
   "execution_count": 38,
   "metadata": {},
   "outputs": [
    {
     "name": "stdout",
     "output_type": "stream",
     "text": [
      "language[-18] : P\n",
      "language[0]  : P\n"
     ]
    }
   ],
   "source": [
    "print(\"language[-18] :\", language[-18])\n",
    "print(\"language[0]  :\", language[0])"
   ]
  },
  {
   "cell_type": "code",
   "execution_count": 39,
   "metadata": {},
   "outputs": [
    {
     "ename": "IndexError",
     "evalue": "string index out of range",
     "output_type": "error",
     "traceback": [
      "\u001b[0;31m---------------------------------------------------------------------------\u001b[0m",
      "\u001b[0;31mIndexError\u001b[0m                                Traceback (most recent call last)",
      "Cell \u001b[0;32mIn[39], line 1\u001b[0m\n\u001b[0;32m----> 1\u001b[0m \u001b[38;5;28mprint\u001b[39m(\u001b[38;5;124m\"\u001b[39m\u001b[38;5;124mlanguage[-19] :\u001b[39m\u001b[38;5;124m\"\u001b[39m, \u001b[43mlanguage\u001b[49m\u001b[43m[\u001b[49m\u001b[38;5;241;43m-\u001b[39;49m\u001b[38;5;241;43m19\u001b[39;49m\u001b[43m]\u001b[49m)\n",
      "\u001b[0;31mIndexError\u001b[0m: string index out of range"
     ]
    }
   ],
   "source": [
    "print(\"language[-19] :\", language[-19])"
   ]
  },
  {
   "cell_type": "code",
   "execution_count": 40,
   "metadata": {},
   "outputs": [
    {
     "ename": "TypeError",
     "evalue": "string indices must be integers, not 'float'",
     "output_type": "error",
     "traceback": [
      "\u001b[0;31m---------------------------------------------------------------------------\u001b[0m",
      "\u001b[0;31mTypeError\u001b[0m                                 Traceback (most recent call last)",
      "Cell \u001b[0;32mIn[40], line 1\u001b[0m\n\u001b[0;32m----> 1\u001b[0m \u001b[38;5;28mprint\u001b[39m(\u001b[38;5;124m\"\u001b[39m\u001b[38;5;124mlanguage[0.0] :\u001b[39m\u001b[38;5;124m\"\u001b[39m, \u001b[43mlanguage\u001b[49m\u001b[43m[\u001b[49m\u001b[38;5;241;43m0.0\u001b[39;49m\u001b[43m]\u001b[49m)\n",
      "\u001b[0;31mTypeError\u001b[0m: string indices must be integers, not 'float'"
     ]
    }
   ],
   "source": [
    "print(\"language[0.0] :\", language[0.0])"
   ]
  },
  {
   "cell_type": "markdown",
   "metadata": {},
   "source": [
    "#### String slicing operations"
   ]
  },
  {
   "cell_type": "code",
   "execution_count": 41,
   "metadata": {},
   "outputs": [],
   "source": [
    "# P   y t h o n   P r  o g  r  a  m  m  i  n  g\n",
    "# 0   1 2 3 4 5 6 7 8  9 10 11 12 13 14 15 16 17 - forward indexing\n",
    "# -18 - - - - - - - - -9 -8 -7 -6 -5 -4 -3 -2 -1 - reverse indexing\n"
   ]
  },
  {
   "cell_type": "code",
   "execution_count": 42,
   "metadata": {},
   "outputs": [
    {
     "name": "stdout",
     "output_type": "stream",
     "text": [
      "language[0:11] : Python prog\n"
     ]
    }
   ],
   "source": [
    "print(\"language[0:11] :\", language[0:11])"
   ]
  },
  {
   "cell_type": "code",
   "execution_count": 43,
   "metadata": {},
   "outputs": [
    {
     "name": "stdout",
     "output_type": "stream",
     "text": [
      "language[5:17] : n programmin\n"
     ]
    }
   ],
   "source": [
    "print(\"language[5:17] :\", language[5:17])"
   ]
  },
  {
   "cell_type": "code",
   "execution_count": 44,
   "metadata": {},
   "outputs": [
    {
     "name": "stdout",
     "output_type": "stream",
     "text": [
      "language[7:10] : pro\n"
     ]
    }
   ],
   "source": [
    "print(\"language[7:10] :\", language[7:10])"
   ]
  },
  {
   "cell_type": "code",
   "execution_count": 45,
   "metadata": {},
   "outputs": [
    {
     "name": "stdout",
     "output_type": "stream",
     "text": [
      "language[0:5] : Pytho\n",
      "language[0:6] : Python\n"
     ]
    }
   ],
   "source": [
    "print(\"language[0:5] :\", language[0:5])\n",
    "print(\"language[0:6] :\", language[0:6])"
   ]
  },
  {
   "cell_type": "code",
   "execution_count": 46,
   "metadata": {},
   "outputs": [
    {
     "name": "stdout",
     "output_type": "stream",
     "text": [
      "language[7:18] : programming\n",
      "language[7:999] : programming\n",
      "language[45:97] : \n"
     ]
    }
   ],
   "source": [
    "print(\"language[7:18] :\", language[7:18])\n",
    "print(\"language[7:999] :\", language[7:999])\n",
    "print(\"language[45:97] :\", language[45:97])"
   ]
  },
  {
   "cell_type": "code",
   "execution_count": 1,
   "metadata": {},
   "outputs": [
    {
     "name": "stdout",
     "output_type": "stream",
     "text": [
      "Python programming <class 'str'>\n"
     ]
    }
   ],
   "source": [
    "language = 'Python programming'\n",
    "print(language, type(language))"
   ]
  },
  {
   "cell_type": "code",
   "execution_count": 2,
   "metadata": {},
   "outputs": [],
   "source": [
    "# string slicing\n",
    "#   string [start: end: step]\n",
    "#   default step is +1"
   ]
  },
  {
   "cell_type": "code",
   "execution_count": 3,
   "metadata": {},
   "outputs": [
    {
     "name": "stdout",
     "output_type": "stream",
     "text": [
      "language[7:18] programming\n",
      "language[7:18:1] programming\n"
     ]
    }
   ],
   "source": [
    "print(\"language[7:18]\", language[7:18])\n",
    "print(\"language[7:18:1]\", language[7:18:1])"
   ]
  },
  {
   "cell_type": "code",
   "execution_count": 4,
   "metadata": {},
   "outputs": [
    {
     "name": "stdout",
     "output_type": "stream",
     "text": [
      "language[7:18:3] pgmn\n"
     ]
    }
   ],
   "source": [
    "print(\"language[7:18:3]\", language[7:18:3])"
   ]
  },
  {
   "cell_type": "code",
   "execution_count": 5,
   "metadata": {},
   "outputs": [
    {
     "name": "stdout",
     "output_type": "stream",
     "text": [
      "language[7:18:-1] \n"
     ]
    }
   ],
   "source": [
    "print(\"language[7:18:-1]\", language[7:18:-1])"
   ]
  },
  {
   "cell_type": "code",
   "execution_count": 6,
   "metadata": {},
   "outputs": [
    {
     "name": "stdout",
     "output_type": "stream",
     "text": [
      "language[17:7:-1] gnimmargor\n"
     ]
    }
   ],
   "source": [
    "print(\"language[17:7:-1]\", language[17:7:-1])"
   ]
  },
  {
   "cell_type": "code",
   "execution_count": 8,
   "metadata": {},
   "outputs": [
    {
     "name": "stdout",
     "output_type": "stream",
     "text": [
      "language[18:6:-1] gnimmargorp\n"
     ]
    }
   ],
   "source": [
    "print(\"language[18:6:-1]\", language[18:6:-1])"
   ]
  },
  {
   "cell_type": "code",
   "execution_count": 9,
   "metadata": {},
   "outputs": [
    {
     "name": "stdout",
     "output_type": "stream",
     "text": [
      "language[19:6:-1] gnimmargorp\n"
     ]
    }
   ],
   "source": [
    "print(\"language[19:6:-1]\", language[19:6:-1])"
   ]
  },
  {
   "cell_type": "code",
   "execution_count": 10,
   "metadata": {},
   "outputs": [
    {
     "name": "stdout",
     "output_type": "stream",
     "text": [
      "language[1000:6:-1] gnimmargorp\n"
     ]
    }
   ],
   "source": [
    "print(\"language[1000:6:-1]\", language[1000:6:-1])"
   ]
  },
  {
   "cell_type": "code",
   "execution_count": 11,
   "metadata": {},
   "outputs": [
    {
     "name": "stdout",
     "output_type": "stream",
     "text": [
      "language[18:6:-30] g\n"
     ]
    }
   ],
   "source": [
    "print(\"language[18:6:-30]\", language[18:6:-30])"
   ]
  },
  {
   "cell_type": "code",
   "execution_count": 12,
   "metadata": {},
   "outputs": [
    {
     "data": {
      "text/plain": [
       "'Python programming'"
      ]
     },
     "execution_count": 12,
     "metadata": {},
     "output_type": "execute_result"
    }
   ],
   "source": [
    "language[:]"
   ]
  },
  {
   "cell_type": "code",
   "execution_count": 13,
   "metadata": {},
   "outputs": [
    {
     "data": {
      "text/plain": [
       "'Python '"
      ]
     },
     "execution_count": 13,
     "metadata": {},
     "output_type": "execute_result"
    }
   ],
   "source": [
    "language[:7]"
   ]
  },
  {
   "cell_type": "code",
   "execution_count": 14,
   "metadata": {},
   "outputs": [
    {
     "data": {
      "text/plain": [
       "'Python programming'"
      ]
     },
     "execution_count": 14,
     "metadata": {},
     "output_type": "execute_result"
    }
   ],
   "source": [
    "language[0:]"
   ]
  },
  {
   "cell_type": "code",
   "execution_count": 15,
   "metadata": {},
   "outputs": [
    {
     "data": {
      "text/plain": [
       "'Python programmin'"
      ]
     },
     "execution_count": 15,
     "metadata": {},
     "output_type": "execute_result"
    }
   ],
   "source": [
    "language[:-1]"
   ]
  },
  {
   "cell_type": "code",
   "execution_count": 16,
   "metadata": {},
   "outputs": [
    {
     "data": {
      "text/plain": [
       "'Python programming'"
      ]
     },
     "execution_count": 16,
     "metadata": {},
     "output_type": "execute_result"
    }
   ],
   "source": [
    "language[::]"
   ]
  },
  {
   "cell_type": "code",
   "execution_count": 17,
   "metadata": {},
   "outputs": [
    {
     "data": {
      "text/plain": [
       "'Python programming'"
      ]
     },
     "execution_count": 17,
     "metadata": {},
     "output_type": "execute_result"
    }
   ],
   "source": [
    "language[::1]"
   ]
  },
  {
   "cell_type": "code",
   "execution_count": 18,
   "metadata": {},
   "outputs": [
    {
     "data": {
      "text/plain": [
       "'gnimmargorp nohtyP'"
      ]
     },
     "execution_count": 18,
     "metadata": {},
     "output_type": "execute_result"
    }
   ],
   "source": [
    "language[::-1]"
   ]
  },
  {
   "cell_type": "code",
   "execution_count": 19,
   "metadata": {},
   "outputs": [
    {
     "data": {
      "text/plain": [
       "'gmrrnt'"
      ]
     },
     "execution_count": 19,
     "metadata": {},
     "output_type": "execute_result"
    }
   ],
   "source": [
    "language[::-3]"
   ]
  },
  {
   "cell_type": "code",
   "execution_count": 20,
   "metadata": {},
   "outputs": [],
   "source": [
    "# if step is -ve, start and end are not given,\n",
    "# then\n",
    "#   start = length_of_string - 1\n",
    "#   end = -1"
   ]
  },
  {
   "cell_type": "code",
   "execution_count": 23,
   "metadata": {},
   "outputs": [
    {
     "data": {
      "text/plain": [
       "''"
      ]
     },
     "execution_count": 23,
     "metadata": {},
     "output_type": "execute_result"
    }
   ],
   "source": [
    "language[17:-1:-1]"
   ]
  },
  {
   "cell_type": "code",
   "execution_count": 25,
   "metadata": {},
   "outputs": [
    {
     "data": {
      "text/plain": [
       "'gnimmargorp nohty'"
      ]
     },
     "execution_count": 25,
     "metadata": {},
     "output_type": "execute_result"
    }
   ],
   "source": [
    "language[17:0:-1]"
   ]
  },
  {
   "cell_type": "code",
   "execution_count": 27,
   "metadata": {},
   "outputs": [
    {
     "name": "stdout",
     "output_type": "stream",
     "text": [
      "Varun dhawan\n",
      "Varun dhawan\n",
      "Varun dhawan\n",
      "nawahd nuraV\n"
     ]
    }
   ],
   "source": [
    "name = \"Varun dhawan\"\n",
    "print(name[:])\n",
    "print(name[::])\n",
    "print(name[::1])\n",
    "print(name[::-1])"
   ]
  },
  {
   "cell_type": "code",
   "execution_count": 34,
   "metadata": {},
   "outputs": [
    {
     "name": "stdout",
     "output_type": "stream",
     "text": [
      " nuraV nawahd\n"
     ]
    }
   ],
   "source": [
    "print(name[5::-1], name[:5:-1])"
   ]
  },
  {
   "cell_type": "code",
   "execution_count": 35,
   "metadata": {},
   "outputs": [],
   "source": [
    "other_str = \"today is good day\"\n"
   ]
  },
  {
   "cell_type": "code",
   "execution_count": 38,
   "metadata": {},
   "outputs": [
    {
     "name": "stdout",
     "output_type": "stream",
     "text": [
      " yadot si doog yad\n"
     ]
    }
   ],
   "source": [
    "print(other_str[5::-1], other_str[7:5:-1], other_str[12:8:-1], other_str[:13:-1])"
   ]
  },
  {
   "cell_type": "code",
   "execution_count": null,
   "metadata": {},
   "outputs": [],
   "source": []
  }
 ],
 "metadata": {
  "kernelspec": {
   "display_name": "Python 3",
   "language": "python",
   "name": "python3"
  },
  "language_info": {
   "codemirror_mode": {
    "name": "ipython",
    "version": 3
   },
   "file_extension": ".py",
   "mimetype": "text/x-python",
   "name": "python",
   "nbconvert_exporter": "python",
   "pygments_lexer": "ipython3",
   "version": "3.12.1"
  }
 },
 "nbformat": 4,
 "nbformat_minor": 2
}
