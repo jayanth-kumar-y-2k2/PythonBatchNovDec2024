{
 "cells": [
  {
   "cell_type": "markdown",
   "metadata": {},
   "source": [
    "# cProfiler"
   ]
  },
  {
   "cell_type": "code",
   "execution_count": 3,
   "metadata": {},
   "outputs": [],
   "source": [
    "import cProfile"
   ]
  },
  {
   "cell_type": "code",
   "execution_count": 4,
   "metadata": {},
   "outputs": [
    {
     "name": "stdout",
     "output_type": "stream",
     "text": [
      "Help on module cProfile:\n",
      "\n",
      "NAME\n",
      "    cProfile\n",
      "\n",
      "MODULE REFERENCE\n",
      "    https://docs.python.org/3.12/library/cprofile.html\n",
      "\n",
      "    The following documentation is automatically generated from the Python\n",
      "    source files.  It may be incomplete, incorrect or include features that\n",
      "    are considered implementation detail and may vary between Python\n",
      "    implementations.  When in doubt, consult the module reference at the\n",
      "    location listed above.\n",
      "\n",
      "DESCRIPTION\n",
      "    Python interface for the 'lsprof' profiler.\n",
      "    Compatible with the 'profile' module.\n",
      "\n",
      "CLASSES\n",
      "    _lsprof.Profiler(builtins.object)\n",
      "        Profile\n",
      "\n",
      "    class Profile(_lsprof.Profiler)\n",
      "     |  Profile(timer=None, timeunit=None, subcalls=True, builtins=True)\n",
      "     |\n",
      "     |  Builds a profiler object using the specified timer function.\n",
      "     |  The default timer is a fast built-in one based on real time.\n",
      "     |  For custom timer functions returning integers, timeunit can\n",
      "     |  be a float specifying a scale (i.e. how long each integer unit\n",
      "     |  is, in seconds).\n",
      "     |\n",
      "     |  Method resolution order:\n",
      "     |      Profile\n",
      "     |      _lsprof.Profiler\n",
      "     |      builtins.object\n",
      "     |\n",
      "     |  Methods defined here:\n",
      "     |\n",
      "     |  __enter__(self)\n",
      "     |\n",
      "     |  __exit__(self, *exc_info)\n",
      "     |\n",
      "     |  create_stats(self)\n",
      "     |\n",
      "     |  dump_stats(self, file)\n",
      "     |\n",
      "     |  print_stats(self, sort=-1)\n",
      "     |\n",
      "     |  run(self, cmd)\n",
      "     |\n",
      "     |  runcall(self, func, /, *args, **kw)\n",
      "     |      # This method is more useful to profile a single function call.\n",
      "     |\n",
      "     |  runctx(self, cmd, globals, locals)\n",
      "     |\n",
      "     |  snapshot_stats(self)\n",
      "     |\n",
      "     |  ----------------------------------------------------------------------\n",
      "     |  Data descriptors defined here:\n",
      "     |\n",
      "     |  __dict__\n",
      "     |      dictionary for instance variables\n",
      "     |\n",
      "     |  __weakref__\n",
      "     |      list of weak references to the object\n",
      "     |\n",
      "     |  ----------------------------------------------------------------------\n",
      "     |  Methods inherited from _lsprof.Profiler:\n",
      "     |\n",
      "     |  __init__(self, /, *args, **kwargs)\n",
      "     |      Initialize self.  See help(type(self)) for accurate signature.\n",
      "     |\n",
      "     |  clear(...)\n",
      "     |      clear()\n",
      "     |\n",
      "     |      Clear all profiling information collected so far.\n",
      "     |\n",
      "     |  disable(...)\n",
      "     |      disable()\n",
      "     |\n",
      "     |      Stop collecting profiling information.\n",
      "     |\n",
      "     |  enable(...)\n",
      "     |      enable(subcalls=True, builtins=True)\n",
      "     |\n",
      "     |      Start collecting profiling information.\n",
      "     |      If 'subcalls' is True, also records for each function\n",
      "     |      statistics separated according to its current caller.\n",
      "     |      If 'builtins' is True, records the time spent in\n",
      "     |      built-in functions separately from their caller.\n",
      "     |\n",
      "     |  getstats(self, /)\n",
      "     |      list of profiler_entry objects.\n",
      "     |\n",
      "     |      getstats() -> list of profiler_entry objects\n",
      "     |\n",
      "     |      Return all information collected by the profiler.\n",
      "     |      Each profiler_entry is a tuple-like object with the\n",
      "     |      following attributes:\n",
      "     |\n",
      "     |          code          code object\n",
      "     |          callcount     how many times this was called\n",
      "     |          reccallcount  how many times called recursively\n",
      "     |          totaltime     total time in this entry\n",
      "     |          inlinetime    inline time in this entry (not in subcalls)\n",
      "     |          calls         details of the calls\n",
      "     |\n",
      "     |      The calls attribute is either None or a list of\n",
      "     |      profiler_subentry objects:\n",
      "     |\n",
      "     |          code          called code object\n",
      "     |          callcount     how many times this is called\n",
      "     |          reccallcount  how many times this is called recursively\n",
      "     |          totaltime     total time spent in this call\n",
      "     |          inlinetime    inline time (not in further subcalls)\n",
      "\n",
      "FUNCTIONS\n",
      "    run(statement, filename=None, sort=-1)\n",
      "        Run statement under profiler optionally saving results in filename\n",
      "\n",
      "        This function takes a single argument that can be passed to the\n",
      "        \"exec\" statement, and an optional file name.  In all cases this\n",
      "        routine attempts to \"exec\" its first argument and gather profiling\n",
      "        statistics from the execution. If no file name is present, then this\n",
      "        function automatically prints a simple profiling report, sorted by the\n",
      "        standard name string (file/line/function-name) that is presented in\n",
      "        each line.\n",
      "\n",
      "    runctx(statement, globals, locals, filename=None, sort=-1)\n",
      "        Run statement under profiler, supplying your own globals and locals,\n",
      "        optionally saving results in filename.\n",
      "\n",
      "        statement and filename have the same semantics as profile.run\n",
      "\n",
      "DATA\n",
      "    __all__ = ['run', 'runctx', 'Profile']\n",
      "\n",
      "FILE\n",
      "    c:\\users\\anith\\appdata\\local\\programs\\python\\python312\\lib\\cprofile.py\n",
      "\n",
      "\n"
     ]
    }
   ],
   "source": [
    "help(cProfile)"
   ]
  },
  {
   "cell_type": "code",
   "execution_count": 5,
   "metadata": {},
   "outputs": [
    {
     "data": {
      "text/plain": [
       "['Profile',\n",
       " '__all__',\n",
       " '__builtins__',\n",
       " '__cached__',\n",
       " '__doc__',\n",
       " '__file__',\n",
       " '__loader__',\n",
       " '__name__',\n",
       " '__package__',\n",
       " '__spec__',\n",
       " '_lsprof',\n",
       " '_pyprofile',\n",
       " 'importlib',\n",
       " 'io',\n",
       " 'label',\n",
       " 'main',\n",
       " 'run',\n",
       " 'runctx']"
      ]
     },
     "execution_count": 5,
     "metadata": {},
     "output_type": "execute_result"
    }
   ],
   "source": [
    "dir(cProfile)"
   ]
  },
  {
   "cell_type": "code",
   "execution_count": 6,
   "metadata": {},
   "outputs": [],
   "source": [
    "exec(\"20+10\")"
   ]
  },
  {
   "cell_type": "code",
   "execution_count": 7,
   "metadata": {},
   "outputs": [
    {
     "data": {
      "text/plain": [
       "30"
      ]
     },
     "execution_count": 7,
     "metadata": {},
     "output_type": "execute_result"
    }
   ],
   "source": [
    "eval(\"20+10\")"
   ]
  },
  {
   "cell_type": "code",
   "execution_count": 8,
   "metadata": {},
   "outputs": [
    {
     "name": "stdout",
     "output_type": "stream",
     "text": [
      "         3 function calls in 0.000 seconds\n",
      "\n",
      "   Ordered by: standard name\n",
      "\n",
      "   ncalls  tottime  percall  cumtime  percall filename:lineno(function)\n",
      "        1    0.000    0.000    0.000    0.000 <string>:1(<module>)\n",
      "        1    0.000    0.000    0.000    0.000 {built-in method builtins.exec}\n",
      "        1    0.000    0.000    0.000    0.000 {method 'disable' of '_lsprof.Profiler' objects}\n",
      "\n",
      "\n"
     ]
    }
   ],
   "source": [
    "cProfile.run(\"20+10\")"
   ]
  },
  {
   "cell_type": "markdown",
   "metadata": {},
   "source": [
    "ncalls : Shows the number of calls made\n",
    "\n",
    "tottime: Total time taken by the given function. Note that the time made in calls to sub-functions are excluded.\n",
    "\n",
    "percall: Total time / No of calls. ( remainder is left out )\n",
    "\n",
    "cumtime: Unlike tottime, this includes time spent in this and all subfunctions that the higher-level function calls. It is most useful and is accurate for recursive functions.\n",
    "\n",
    "The percall following cumtime is calculated as the quotient of cumtime divided by primitive calls. The primitive calls include all the calls that were not included through recursion."
   ]
  },
  {
   "cell_type": "code",
   "execution_count": 9,
   "metadata": {},
   "outputs": [
    {
     "name": "stdout",
     "output_type": "stream",
     "text": [
      "         12 function calls in 0.000 seconds\n",
      "\n",
      "   Ordered by: standard name\n",
      "\n",
      "   ncalls  tottime  percall  cumtime  percall filename:lineno(function)\n",
      "        1    0.000    0.000    0.000    0.000 <string>:1(<module>)\n",
      "        1    0.000    0.000    0.000    0.000 {built-in method builtins.exec}\n",
      "        9    0.000    0.000    0.000    0.000 {method 'append' of 'list' objects}\n",
      "        1    0.000    0.000    0.000    0.000 {method 'disable' of '_lsprof.Profiler' objects}\n",
      "\n",
      "\n"
     ]
    }
   ],
   "source": [
    "cProfile.run(\n",
    "    \"\"\"\n",
    "result = []\n",
    "for i in range(9):\n",
    "    result.append(i)\n",
    "\"\"\"\n",
    ")"
   ]
  },
  {
   "cell_type": "code",
   "execution_count": 10,
   "metadata": {},
   "outputs": [
    {
     "name": "stdout",
     "output_type": "stream",
     "text": [
      "         3 function calls in 0.000 seconds\n",
      "\n",
      "   Ordered by: standard name\n",
      "\n",
      "   ncalls  tottime  percall  cumtime  percall filename:lineno(function)\n",
      "        1    0.000    0.000    0.000    0.000 <string>:1(<module>)\n",
      "        1    0.000    0.000    0.000    0.000 {built-in method builtins.exec}\n",
      "        1    0.000    0.000    0.000    0.000 {method 'disable' of '_lsprof.Profiler' objects}\n",
      "\n",
      "\n"
     ]
    }
   ],
   "source": [
    "cProfile.run(\n",
    "    \"\"\"\n",
    "result = [i for i in range(9)]\n",
    "\"\"\"\n",
    ")"
   ]
  },
  {
   "cell_type": "code",
   "execution_count": 11,
   "metadata": {},
   "outputs": [
    {
     "name": "stdout",
     "output_type": "stream",
     "text": [
      "         3 function calls in 0.000 seconds\n",
      "\n",
      "   Ordered by: standard name\n",
      "\n",
      "   ncalls  tottime  percall  cumtime  percall filename:lineno(function)\n",
      "        1    0.000    0.000    0.000    0.000 <string>:1(<module>)\n",
      "        1    0.000    0.000    0.000    0.000 {built-in method builtins.exec}\n",
      "        1    0.000    0.000    0.000    0.000 {method 'disable' of '_lsprof.Profiler' objects}\n",
      "\n",
      "\n"
     ]
    }
   ],
   "source": [
    "cProfile.run(\n",
    "    \"\"\"\n",
    "result = list(range(9))\n",
    "\"\"\",\n",
    "    filename=None,\n",
    "    sort=-1,\n",
    ")"
   ]
  },
  {
   "cell_type": "code",
   "execution_count": 12,
   "metadata": {},
   "outputs": [
    {
     "name": "stdout",
     "output_type": "stream",
     "text": [
      "Array created successfully\n",
      "         400381 function calls (400376 primitive calls) in 0.091 seconds\n",
      "\n",
      "   Ordered by: standard name\n",
      "\n",
      "   ncalls  tottime  percall  cumtime  percall filename:lineno(function)\n",
      "        1    0.003    0.003    0.058    0.058 1140210951.py:12(main)\n",
      "        1    0.028    0.028    0.054    0.054 1140210951.py:2(create_array)\n",
      "        1    0.000    0.000    0.000    0.000 1140210951.py:8(print_statement)\n",
      "        2    0.000    0.000    0.000    0.000 <frozen abc>:121(__subclasscheck__)\n",
      "        3    0.000    0.000    0.000    0.000 <frozen importlib._bootstrap>:1390(_handle_fromlist)\n",
      "        1    0.000    0.000    0.058    0.058 <string>:1(<module>)\n",
      "        1    0.000    0.000    0.000    0.000 asyncio.py:225(add_callback)\n",
      "        3    0.000    0.000    0.000    0.000 attrsettr.py:43(__getattr__)\n",
      "        3    0.000    0.000    0.000    0.000 attrsettr.py:66(_get_attr_opt)\n",
      "        1    0.000    0.000    0.000    0.000 base_events.py:2004(get_debug)\n",
      "        1    0.000    0.000    0.000    0.000 base_events.py:539(_check_closed)\n",
      "        2    0.000    0.000    0.000    0.000 base_events.py:734(time)\n",
      "        1    0.000    0.000    0.000    0.000 base_events.py:785(call_soon)\n",
      "        1    0.000    0.000    0.000    0.000 base_events.py:814(_call_soon)\n",
      "       17    0.000    0.000    0.000    0.000 enum.py:1129(__new__)\n",
      "       39    0.000    0.000    0.000    0.000 enum.py:1544(_get_value)\n",
      "        8    0.000    0.000    0.000    0.000 enum.py:1551(__or__)\n",
      "        5    0.000    0.000    0.000    0.000 enum.py:1562(__and__)\n",
      "       17    0.000    0.000    0.000    0.000 enum.py:726(__call__)\n",
      "        1    0.000    0.000    0.000    0.000 events.py:36(__init__)\n",
      "        1    0.000    0.000    0.000    0.000 events.py:86(_run)\n",
      "        1    0.000    0.000    0.000    0.000 history.py:839(_writeout_output_cache)\n",
      "        1    0.000    0.000    0.000    0.000 ioloop.py:742(_run_callback)\n",
      "        1    0.000    0.000    0.000    0.000 iostream.py:138(_event_pipe)\n",
      "        1    0.000    0.000    0.000    0.000 iostream.py:157(_handle_event)\n",
      "        1    0.000    0.000    0.000    0.000 iostream.py:213(_is_master_process)\n",
      "        1    0.000    0.000    0.000    0.000 iostream.py:216(_check_mp_mode)\n",
      "        1    0.000    0.000    0.000    0.000 iostream.py:255(closed)\n",
      "        1    0.000    0.000    0.000    0.000 iostream.py:259(schedule)\n",
      "        1    0.000    0.000    0.016    0.016 iostream.py:276(<lambda>)\n",
      "        1    0.000    0.000    0.016    0.016 iostream.py:278(_really_send)\n",
      "        2    0.000    0.000    0.000    0.000 iostream.py:505(parent_header)\n",
      "        2    0.000    0.000    0.000    0.000 iostream.py:550(_is_master_process)\n",
      "        2    0.000    0.000    0.000    0.000 iostream.py:577(_schedule_flush)\n",
      "        2    0.000    0.000    0.000    0.000 iostream.py:655(write)\n",
      "        2    0.000    0.000    0.000    0.000 queue.py:209(_qsize)\n",
      "        2    0.000    0.000    0.000    0.000 queue.py:97(empty)\n",
      "        1    0.000    0.000    0.000    0.000 selector_events.py:750(_process_events)\n",
      "        1    0.000    0.000    0.000    0.000 selectors.py:313(_select)\n",
      "        1    0.000    0.000    0.000    0.000 selectors.py:319(select)\n",
      "        8    0.009    0.001    0.016    0.002 socket.py:626(send)\n",
      "        1    0.000    0.000    0.016    0.016 socket.py:703(send_multipart)\n",
      "        1    0.000    0.000    0.000    0.000 socket.py:774(recv_multipart)\n",
      "        1    0.000    0.000    0.000    0.000 threading.py:1155(_wait_for_tstate_lock)\n",
      "        1    0.000    0.000    0.000    0.000 threading.py:1222(is_alive)\n",
      "        1    0.000    0.000    0.000    0.000 threading.py:299(__enter__)\n",
      "        1    0.000    0.000    0.000    0.000 threading.py:308(_release_save)\n",
      "        1    0.000    0.000    0.000    0.000 threading.py:314(_is_owned)\n",
      "        1    0.000    0.000    0.000    0.000 threading.py:601(is_set)\n",
      "        1    0.000    0.000    0.000    0.000 traitlets.py:1512(_notify_trait)\n",
      "        1    0.000    0.000    0.000    0.000 traitlets.py:1523(notify_change)\n",
      "        1    0.000    0.000    0.000    0.000 traitlets.py:1527(_notify_observers)\n",
      "        2    0.000    0.000    0.000    0.000 traitlets.py:2304(validate)\n",
      "        2    0.000    0.000    0.000    0.000 traitlets.py:3474(validate)\n",
      "        2    0.000    0.000    0.000    0.000 traitlets.py:3486(validate_elements)\n",
      "        2    0.000    0.000    0.000    0.000 traitlets.py:3624(validate_elements)\n",
      "        2    0.000    0.000    0.000    0.000 traitlets.py:3631(set)\n",
      "        2    0.000    0.000    0.000    0.000 traitlets.py:629(get)\n",
      "        2    0.000    0.000    0.000    0.000 traitlets.py:676(__get__)\n",
      "        2    0.000    0.000    0.000    0.000 traitlets.py:689(set)\n",
      "        2    0.000    0.000    0.000    0.000 traitlets.py:708(__set__)\n",
      "        2    0.000    0.000    0.000    0.000 traitlets.py:718(_validate)\n",
      "        2    0.000    0.000    0.000    0.000 traitlets.py:727(_cross_validate)\n",
      "        2    0.000    0.000    0.000    0.000 typing.py:1221(__instancecheck__)\n",
      "        2    0.000    0.000    0.000    0.000 typing.py:1285(__hash__)\n",
      "        2    0.000    0.000    0.000    0.000 typing.py:1492(__subclasscheck__)\n",
      "       15    0.000    0.000    0.000    0.000 typing.py:2182(cast)\n",
      "        3    0.000    0.000    0.000    0.000 typing.py:392(inner)\n",
      "        1    0.000    0.000    0.000    0.000 tz.py:74(utcoffset)\n",
      "        3    0.000    0.000    0.000    0.000 zmqstream.py:538(receiving)\n",
      "        2    0.000    0.000    0.000    0.000 zmqstream.py:542(sending)\n",
      "        1    0.000    0.000    0.000    0.000 zmqstream.py:556(_run_callback)\n",
      "        1    0.000    0.000    0.000    0.000 zmqstream.py:583(_handle_events)\n",
      "        1    0.000    0.000    0.000    0.000 zmqstream.py:624(_handle_recv)\n",
      "        2    0.000    0.000    0.000    0.000 zmqstream.py:663(_rebuild_io_state)\n",
      "        2    0.000    0.000    0.000    0.000 zmqstream.py:686(_update_handler)\n",
      "        1    0.000    0.000    0.000    0.000 zmqstream.py:694(<lambda>)\n",
      "        2    0.000    0.000    0.000    0.000 {built-in method _abc._abc_subclasscheck}\n",
      "        1    0.000    0.000    0.000    0.000 {built-in method _asyncio.get_running_loop}\n",
      "        1    0.000    0.000    0.000    0.000 {built-in method _contextvars.copy_context}\n",
      "        1    0.000    0.000    0.000    0.000 {built-in method _thread.allocate_lock}\n",
      "        1    0.000    0.000    0.058    0.058 {built-in method builtins.exec}\n",
      "        3    0.000    0.000    0.000    0.000 {built-in method builtins.getattr}\n",
      "        8    0.000    0.000    0.000    0.000 {built-in method builtins.hasattr}\n",
      "        2    0.000    0.000    0.000    0.000 {built-in method builtins.hash}\n",
      "    90/86    0.000    0.000    0.000    0.000 {built-in method builtins.isinstance}\n",
      "        2    0.000    0.000    0.000    0.000 {built-in method builtins.issubclass}\n",
      "       10    0.000    0.000    0.000    0.000 {built-in method builtins.len}\n",
      "        3    0.000    0.000    0.000    0.000 {built-in method builtins.max}\n",
      "        1    0.000    0.000    0.000    0.000 {built-in method builtins.min}\n",
      "        1    0.000    0.000    0.000    0.000 {built-in method builtins.print}\n",
      "        3    0.000    0.000    0.000    0.000 {built-in method nt.getpid}\n",
      "        1    0.000    0.000    0.000    0.000 {built-in method select.select}\n",
      "        2    0.000    0.000    0.000    0.000 {built-in method time.monotonic}\n",
      "        1    0.000    0.000    0.000    0.000 {method '__enter__' of '_thread.lock' objects}\n",
      "        2    0.000    0.000    0.000    0.000 {method '__exit__' of '_thread.RLock' objects}\n",
      "        4    0.000    0.000    0.000    0.000 {method '__exit__' of '_thread.lock' objects}\n",
      "        2    0.008    0.004    0.015    0.007 {method '__exit__' of 'sqlite3.Connection' objects}\n",
      "      3/2    0.000    0.000    0.000    0.000 {method 'acquire' of '_thread.lock' objects}\n",
      "        3    0.000    0.000    0.000    0.000 {method 'append' of 'collections.deque' objects}\n",
      "   400000    0.042    0.000    0.042    0.000 {method 'append' of 'list' objects}\n",
      "        1    0.000    0.000    0.000    0.000 {method 'disable' of '_lsprof.Profiler' objects}\n",
      "        2    0.000    0.000    0.000    0.000 {method 'extend' of 'list' objects}\n",
      "        2    0.000    0.000    0.000    0.000 {method 'get' of '_contextvars.ContextVar' objects}\n",
      "        4    0.000    0.000    0.000    0.000 {method 'get' of 'dict' objects}\n",
      "        2    0.000    0.000    0.000    0.000 {method 'items' of 'dict' objects}\n",
      "        2    0.000    0.000    0.000    0.000 {method 'popleft' of 'collections.deque' objects}\n",
      "        1    0.000    0.000    0.000    0.000 {method 'release' of '_thread.lock' objects}\n",
      "        1    0.000    0.000    0.000    0.000 {method 'run' of '_contextvars.Context' objects}\n",
      "        3    0.000    0.000    0.000    0.000 {method 'upper' of 'str' objects}\n",
      "        2    0.000    0.000    0.000    0.000 {method 'write' of '_io.StringIO' objects}\n",
      "\n",
      "\n"
     ]
    }
   ],
   "source": [
    "# Code containing multiple functions\n",
    "def create_array():\n",
    "    arr = []\n",
    "    for i in range(0, 400000):\n",
    "        arr.append(i)\n",
    "\n",
    "\n",
    "def print_statement():\n",
    "    print(\"Array created successfully\")\n",
    "\n",
    "\n",
    "def main():\n",
    "    create_array()\n",
    "    print_statement()\n",
    "\n",
    "\n",
    "cProfile.run(\"main()\")"
   ]
  },
  {
   "cell_type": "code",
   "execution_count": 13,
   "metadata": {},
   "outputs": [
    {
     "name": "stdout",
     "output_type": "stream",
     "text": [
      "Array created successfully\n",
      "         400381 function calls (400376 primitive calls) in 0.076 seconds\n",
      "\n",
      "   Ordered by: internal time\n",
      "\n",
      "   ncalls  tottime  percall  cumtime  percall filename:lineno(function)\n",
      "   400000    0.042    0.000    0.042    0.000 {method 'append' of 'list' objects}\n",
      "        8    0.016    0.002    0.031    0.004 socket.py:626(send)\n",
      "        1    0.014    0.014    0.026    0.026 1140210951.py:2(create_array)\n",
      "        1    0.003    0.003    0.030    0.030 1140210951.py:12(main)\n",
      "        1    0.000    0.000    0.000    0.000 {method 'disable' of '_lsprof.Profiler' objects}\n",
      "        2    0.000    0.000    0.000    0.000 iostream.py:655(write)\n",
      "        2    0.000    0.000    0.000    0.000 {method '__exit__' of 'sqlite3.Connection' objects}\n",
      "        1    0.000    0.000    0.015    0.015 socket.py:703(send_multipart)\n",
      "       39    0.000    0.000    0.000    0.000 enum.py:1544(_get_value)\n",
      "        1    0.000    0.000    0.031    0.031 iostream.py:278(_really_send)\n",
      "        8    0.000    0.000    0.000    0.000 enum.py:1551(__or__)\n",
      "    90/86    0.000    0.000    0.000    0.000 {built-in method builtins.isinstance}\n",
      "        1    0.000    0.000    0.000    0.000 socket.py:774(recv_multipart)\n",
      "        3    0.000    0.000    0.000    0.000 attrsettr.py:66(_get_attr_opt)\n",
      "        3    0.000    0.000    0.000    0.000 attrsettr.py:43(__getattr__)\n",
      "       17    0.000    0.000    0.000    0.000 enum.py:726(__call__)\n",
      "        1    0.000    0.000    0.000    0.000 selector_events.py:750(_process_events)\n",
      "        5    0.000    0.000    0.000    0.000 enum.py:1562(__and__)\n",
      "        1    0.000    0.000    0.000    0.000 {built-in method select.select}\n",
      "        1    0.000    0.000    0.000    0.000 1140210951.py:8(print_statement)\n",
      "       17    0.000    0.000    0.000    0.000 enum.py:1129(__new__)\n",
      "        2    0.000    0.000    0.000    0.000 traitlets.py:3631(set)\n",
      "        1    0.000    0.000    0.000    0.000 asyncio.py:225(add_callback)\n",
      "        1    0.000    0.000    0.031    0.031 iostream.py:276(<lambda>)\n",
      "        2    0.000    0.000    0.000    0.000 typing.py:1492(__subclasscheck__)\n",
      "        1    0.000    0.000    0.000    0.000 {built-in method builtins.print}\n",
      "        3    0.000    0.000    0.000    0.000 typing.py:392(inner)\n",
      "        1    0.000    0.000    0.000    0.000 base_events.py:1909(_run_once)\n",
      "        1    0.000    0.000    0.000    0.000 zmqstream.py:583(_handle_events)\n",
      "        1    0.000    0.000    0.000    0.000 iostream.py:259(schedule)\n",
      "        1    0.000    0.000    0.000    0.000 traitlets.py:1527(_notify_observers)\n",
      "        2    0.000    0.000    0.000    0.000 zmqstream.py:686(_update_handler)\n",
      "        2    0.000    0.000    0.000    0.000 typing.py:1221(__instancecheck__)\n",
      "        2    0.000    0.000    0.000    0.000 zmqstream.py:663(_rebuild_io_state)\n",
      "        8    0.000    0.000    0.000    0.000 {built-in method builtins.hasattr}\n",
      "        2    0.000    0.000    0.000    0.000 traitlets.py:718(_validate)\n",
      "        2    0.000    0.000    0.000    0.000 queue.py:97(empty)\n",
      "        1    0.000    0.000    0.000    0.000 base_events.py:814(_call_soon)\n",
      "        2    0.000    0.000    0.000    0.000 traitlets.py:689(set)\n",
      "        1    0.000    0.000    0.000    0.000 {built-in method _thread.allocate_lock}\n",
      "        1    0.000    0.000    0.000    0.000 selectors.py:319(select)\n",
      "        2    0.000    0.000    0.000    0.000 traitlets.py:3474(validate)\n",
      "        1    0.000    0.000    0.000    0.000 threading.py:1222(is_alive)\n",
      "        2    0.000    0.000    0.000    0.000 iostream.py:505(parent_header)\n",
      "        1    0.000    0.000    0.000    0.000 iostream.py:213(_is_master_process)\n",
      "        1    0.000    0.000    0.030    0.030 <string>:1(<module>)\n",
      "        3    0.000    0.000    0.000    0.000 <frozen importlib._bootstrap>:1390(_handle_fromlist)\n",
      "        2    0.000    0.000    0.000    0.000 iostream.py:577(_schedule_flush)\n",
      "        2    0.000    0.000    0.000    0.000 traitlets.py:727(_cross_validate)\n",
      "        2    0.000    0.000    0.000    0.000 traitlets.py:708(__set__)\n",
      "      3/2    0.000    0.000    0.000    0.000 {method 'acquire' of '_thread.lock' objects}\n",
      "        2    0.000    0.000    0.000    0.000 {built-in method _abc._abc_subclasscheck}\n",
      "        1    0.000    0.000    0.000    0.000 traitlets.py:1512(_notify_trait)\n",
      "        2    0.000    0.000    0.000    0.000 traitlets.py:676(__get__)\n",
      "        1    0.000    0.000    0.000    0.000 history.py:839(_writeout_output_cache)\n",
      "        1    0.000    0.000    0.000    0.000 zmqstream.py:624(_handle_recv)\n",
      "        2    0.000    0.000    0.000    0.000 traitlets.py:3624(validate_elements)\n",
      "        1    0.000    0.000    0.000    0.000 traitlets.py:1523(notify_change)\n",
      "        1    0.000    0.000    0.000    0.000 events.py:86(_run)\n",
      "        1    0.000    0.000    0.000    0.000 events.py:36(__init__)\n",
      "        3    0.000    0.000    0.000    0.000 {built-in method nt.getpid}\n",
      "        2    0.000    0.000    0.000    0.000 typing.py:1285(__hash__)\n",
      "        2    0.000    0.000    0.000    0.000 traitlets.py:2304(validate)\n",
      "        2    0.000    0.000    0.000    0.000 queue.py:209(_qsize)\n",
      "        3    0.000    0.000    0.000    0.000 {built-in method builtins.getattr}\n",
      "        2    0.000    0.000    0.000    0.000 {built-in method builtins.issubclass}\n",
      "       10    0.000    0.000    0.000    0.000 {built-in method builtins.len}\n",
      "        1    0.000    0.000    0.000    0.000 selectors.py:313(_select)\n",
      "        2    0.000    0.000    0.000    0.000 <frozen abc>:121(__subclasscheck__)\n",
      "        1    0.000    0.000    0.000    0.000 base_events.py:785(call_soon)\n",
      "        2    0.000    0.000    0.000    0.000 base_events.py:734(time)\n",
      "        3    0.000    0.000    0.000    0.000 {built-in method builtins.max}\n",
      "        2    0.000    0.000    0.000    0.000 zmqstream.py:542(sending)\n",
      "        2    0.000    0.000    0.000    0.000 iostream.py:550(_is_master_process)\n",
      "        1    0.000    0.000    0.000    0.000 {method 'run' of '_contextvars.Context' objects}\n",
      "        1    0.000    0.000    0.000    0.000 iostream.py:216(_check_mp_mode)\n",
      "        1    0.000    0.000    0.000    0.000 threading.py:308(_release_save)\n",
      "        1    0.000    0.000    0.000    0.000 iostream.py:138(_event_pipe)\n",
      "        4    0.000    0.000    0.000    0.000 {method '__exit__' of '_thread.lock' objects}\n",
      "        1    0.000    0.000    0.000    0.000 threading.py:299(__enter__)\n",
      "        1    0.000    0.000    0.000    0.000 ioloop.py:742(_run_callback)\n",
      "        1    0.000    0.000    0.000    0.000 {built-in method _asyncio.get_running_loop}\n",
      "        2    0.000    0.000    0.000    0.000 traitlets.py:3486(validate_elements)\n",
      "        2    0.000    0.000    0.000    0.000 traitlets.py:629(get)\n",
      "        1    0.000    0.000    0.000    0.000 tz.py:74(utcoffset)\n",
      "        2    0.000    0.000    0.000    0.000 {method 'write' of '_io.StringIO' objects}\n",
      "        4    0.000    0.000    0.000    0.000 {method 'get' of 'dict' objects}\n",
      "        1    0.000    0.000    0.000    0.000 iostream.py:157(_handle_event)\n",
      "        2    0.000    0.000    0.000    0.000 {method 'popleft' of 'collections.deque' objects}\n",
      "        2    0.000    0.000    0.000    0.000 {method 'get' of '_contextvars.ContextVar' objects}\n",
      "        1    0.000    0.000    0.000    0.000 threading.py:314(_is_owned)\n",
      "        3    0.000    0.000    0.000    0.000 {method 'append' of 'collections.deque' objects}\n",
      "        1    0.000    0.000    0.000    0.000 threading.py:1155(_wait_for_tstate_lock)\n",
      "       15    0.000    0.000    0.000    0.000 typing.py:2182(cast)\n",
      "        1    0.000    0.000    0.000    0.000 zmqstream.py:556(_run_callback)\n",
      "        2    0.000    0.000    0.000    0.000 {method 'items' of 'dict' objects}\n",
      "        3    0.000    0.000    0.000    0.000 {method 'upper' of 'str' objects}\n",
      "        2    0.000    0.000    0.000    0.000 {method '__exit__' of '_thread.RLock' objects}\n",
      "        1    0.000    0.000    0.000    0.000 {built-in method _contextvars.copy_context}\n",
      "        2    0.000    0.000    0.000    0.000 {built-in method builtins.hash}\n",
      "        1    0.000    0.000    0.000    0.000 {built-in method builtins.min}\n",
      "        3    0.000    0.000    0.000    0.000 zmqstream.py:538(receiving)\n",
      "        1    0.000    0.000    0.000    0.000 iostream.py:255(closed)\n",
      "        1    0.000    0.000    0.000    0.000 {method '__enter__' of '_thread.lock' objects}\n",
      "        2    0.000    0.000    0.000    0.000 {built-in method time.monotonic}\n",
      "        1    0.000    0.000    0.000    0.000 threading.py:601(is_set)\n",
      "        1    0.000    0.000    0.000    0.000 zmqstream.py:694(<lambda>)\n",
      "        2    0.000    0.000    0.000    0.000 {method 'extend' of 'list' objects}\n",
      "        1    0.000    0.000    0.000    0.000 base_events.py:539(_check_closed)\n",
      "        1    0.000    0.000    0.000    0.000 {method 'release' of '_thread.lock' objects}\n",
      "        1    0.000    0.000    0.000    0.000 base_events.py:2004(get_debug)\n",
      "\n",
      "\n"
     ]
    }
   ],
   "source": [
    "cProfile.run(\"main()\", sort=True)  # Order is based on tottime, percall, ncalls"
   ]
  },
  {
   "cell_type": "code",
   "execution_count": 14,
   "metadata": {},
   "outputs": [
    {
     "name": "stdout",
     "output_type": "stream",
     "text": [
      "Array created successfully\n",
      "         400110 function calls (400109 primitive calls) in 0.064 seconds\n",
      "\n",
      "   Ordered by: call count\n",
      "\n",
      "   ncalls  tottime  percall  cumtime  percall filename:lineno(function)\n",
      "   400000    0.043    0.000    0.043    0.000 {method 'append' of 'list' objects}\n",
      "       14    0.000    0.000    0.000    0.000 typing.py:2182(cast)\n",
      "        9    0.000    0.000    0.000    0.000 {built-in method builtins.isinstance}\n",
      "        5    0.000    0.000    0.000    0.000 {built-in method builtins.hasattr}\n",
      "        4    0.000    0.000    0.000    0.000 {method 'get' of 'dict' objects}\n",
      "        4    0.000    0.000    0.000    0.000 {built-in method builtins.len}\n",
      "      3/2    0.000    0.000    0.000    0.000 {method 'acquire' of '_thread.lock' objects}\n",
      "        2    0.000    0.000    0.000    0.000 traitlets.py:3486(validate_elements)\n",
      "        2    0.000    0.000    0.000    0.000 traitlets.py:629(get)\n",
      "        2    0.000    0.000    0.000    0.000 traitlets.py:689(set)\n",
      "        2    0.000    0.000    0.000    0.000 traitlets.py:727(_cross_validate)\n",
      "        2    0.000    0.000    0.000    0.000 iostream.py:505(parent_header)\n",
      "        2    0.000    0.000    0.000    0.000 traitlets.py:708(__set__)\n",
      "        2    0.000    0.000    0.000    0.000 traitlets.py:676(__get__)\n",
      "        2    0.000    0.000    0.000    0.000 traitlets.py:718(_validate)\n",
      "        2    0.000    0.000    0.000    0.000 traitlets.py:2304(validate)\n",
      "        2    0.000    0.000    0.000    0.000 traitlets.py:3624(validate_elements)\n",
      "        2    0.000    0.000    0.000    0.000 traitlets.py:3631(set)\n",
      "        2    0.000    0.000    0.000    0.000 traitlets.py:3474(validate)\n",
      "        2    0.000    0.000    0.000    0.000 iostream.py:655(write)\n",
      "        2    0.000    0.000    0.000    0.000 iostream.py:550(_is_master_process)\n",
      "        2    0.000    0.000    0.000    0.000 iostream.py:577(_schedule_flush)\n",
      "        2    0.000    0.000    0.000    0.000 {method 'append' of 'collections.deque' objects}\n",
      "        2    0.000    0.000    0.000    0.000 {built-in method nt.getpid}\n",
      "        2    0.000    0.000    0.000    0.000 {method '__exit__' of '_thread.lock' objects}\n",
      "        2    0.000    0.000    0.000    0.000 {method '__exit__' of '_thread.RLock' objects}\n",
      "        2    0.000    0.000    0.000    0.000 {method 'write' of '_io.StringIO' objects}\n",
      "        2    0.000    0.000    0.000    0.000 {method 'items' of 'dict' objects}\n",
      "        2    0.000    0.000    0.000    0.000 {method 'extend' of 'list' objects}\n",
      "        2    0.000    0.000    0.000    0.000 {method 'get' of '_contextvars.ContextVar' objects}\n",
      "        2    0.008    0.004    0.016    0.008 {method '__exit__' of 'sqlite3.Connection' objects}\n",
      "        1    0.000    0.000    0.000    0.000 threading.py:1155(_wait_for_tstate_lock)\n",
      "        1    0.000    0.000    0.000    0.000 threading.py:314(_is_owned)\n",
      "        1    0.000    0.000    0.000    0.000 threading.py:601(is_set)\n",
      "        1    0.000    0.000    0.000    0.000 threading.py:299(__enter__)\n",
      "        1    0.000    0.000    0.000    0.000 threading.py:308(_release_save)\n",
      "        1    0.000    0.000    0.000    0.000 threading.py:1222(is_alive)\n",
      "        1    0.000    0.000    0.000    0.000 socket.py:626(send)\n",
      "        1    0.000    0.000    0.000    0.000 traitlets.py:1527(_notify_observers)\n",
      "        1    0.000    0.000    0.000    0.000 traitlets.py:1512(_notify_trait)\n",
      "        1    0.000    0.000    0.000    0.000 traitlets.py:1523(notify_change)\n",
      "        1    0.000    0.000    0.000    0.000 tz.py:74(utcoffset)\n",
      "        1    0.000    0.000    0.000    0.000 iostream.py:138(_event_pipe)\n",
      "        1    0.000    0.000    0.000    0.000 history.py:839(_writeout_output_cache)\n",
      "        1    0.000    0.000    0.000    0.000 iostream.py:259(schedule)\n",
      "        1    0.003    0.003    0.023    0.023 1140210951.py:12(main)\n",
      "        1    0.010    0.010    0.020    0.020 1140210951.py:2(create_array)\n",
      "        1    0.000    0.000    0.000    0.000 1140210951.py:8(print_statement)\n",
      "        1    0.000    0.000    0.023    0.023 <string>:1(<module>)\n",
      "        1    0.000    0.000    0.000    0.000 {method 'release' of '_thread.lock' objects}\n",
      "        1    0.000    0.000    0.000    0.000 {method '__enter__' of '_thread.lock' objects}\n",
      "        1    0.000    0.000    0.000    0.000 {built-in method _thread.allocate_lock}\n",
      "        1    0.000    0.000    0.000    0.000 {built-in method builtins.print}\n",
      "        1    0.000    0.000    0.000    0.000 {method 'disable' of '_lsprof.Profiler' objects}\n",
      "\n",
      "\n"
     ]
    }
   ],
   "source": [
    "cProfile.run(\"main()\", sort=\"ncalls\")  # Order is ncalls"
   ]
  },
  {
   "cell_type": "code",
   "execution_count": 15,
   "metadata": {},
   "outputs": [
    {
     "name": "stdout",
     "output_type": "stream",
     "text": [
      "Array created successfully\n"
     ]
    }
   ],
   "source": [
    "cProfile.run(\"main()\", sort=\"ncalls\", filename=\"profile.txt\")  # Order is ncalls"
   ]
  },
  {
   "cell_type": "code",
   "execution_count": 16,
   "metadata": {},
   "outputs": [
    {
     "name": "stderr",
     "output_type": "stream",
     "text": [
      "'cat' is not recognized as an internal or external command,\n",
      "operable program or batch file.\n"
     ]
    }
   ],
   "source": [
    "!cat profile.txt"
   ]
  },
  {
   "cell_type": "markdown",
   "metadata": {},
   "source": [
    "### Profiling multiple functions or methods together\n"
   ]
  },
  {
   "cell_type": "code",
   "execution_count": 17,
   "metadata": {},
   "outputs": [],
   "source": [
    "def using_range(nums):\n",
    "    successive_diffs = []\n",
    "    for i in range(len(nums)):\n",
    "        if i == 0:\n",
    "            continue\n",
    "        successive_diffs.append(nums[i - 1] - nums[i])\n",
    "    return successive_diffs\n",
    "\n",
    "\n",
    "def using_enumerate(nums):\n",
    "    successive_diffs = []\n",
    "    for i, num in enumerate(nums):\n",
    "        if i == 0:\n",
    "            continue\n",
    "        successive_diffs.append(nums[i - 1] - nums[i])\n",
    "    return successive_diffs"
   ]
  },
  {
   "cell_type": "code",
   "execution_count": 18,
   "metadata": {},
   "outputs": [
    {
     "name": "stdout",
     "output_type": "stream",
     "text": [
      "         10004 function calls in 0.004 seconds\n",
      "\n",
      "   Ordered by: standard name\n",
      "\n",
      "   ncalls  tottime  percall  cumtime  percall filename:lineno(function)\n",
      "        1    0.003    0.003    0.004    0.004 3792339585.py:1(using_range)\n",
      "        1    0.000    0.000    0.004    0.004 <string>:1(<module>)\n",
      "        1    0.000    0.000    0.004    0.004 {built-in method builtins.exec}\n",
      "        1    0.000    0.000    0.000    0.000 {built-in method builtins.len}\n",
      "     9999    0.001    0.000    0.001    0.000 {method 'append' of 'list' objects}\n",
      "        1    0.000    0.000    0.000    0.000 {method 'disable' of '_lsprof.Profiler' objects}\n",
      "\n",
      "\n"
     ]
    }
   ],
   "source": [
    "cProfile.run(\"using_range(range(10000))\")"
   ]
  },
  {
   "cell_type": "code",
   "execution_count": 19,
   "metadata": {},
   "outputs": [
    {
     "name": "stdout",
     "output_type": "stream",
     "text": [
      "         10003 function calls in 0.004 seconds\n",
      "\n",
      "   Ordered by: internal time\n",
      "\n",
      "   ncalls  tottime  percall  cumtime  percall filename:lineno(function)\n",
      "        1    0.003    0.003    0.004    0.004 3792339585.py:10(using_enumerate)\n",
      "     9999    0.001    0.000    0.001    0.000 {method 'append' of 'list' objects}\n",
      "        1    0.000    0.000    0.000    0.000 {method 'disable' of '_lsprof.Profiler' objects}\n",
      "        1    0.000    0.000    0.004    0.004 {built-in method builtins.exec}\n",
      "        1    0.000    0.000    0.004    0.004 <string>:1(<module>)\n",
      "\n",
      "\n"
     ]
    }
   ],
   "source": [
    "cProfile.run(\"using_enumerate(range(10000))\", sort=True)"
   ]
  },
  {
   "cell_type": "code",
   "execution_count": 20,
   "metadata": {},
   "outputs": [
    {
     "name": "stdout",
     "output_type": "stream",
     "text": [
      "         20004 function calls in 0.008 seconds\n",
      "\n",
      "   Ordered by: internal time\n",
      "\n",
      "   ncalls  tottime  percall  cumtime  percall filename:lineno(function)\n",
      "        1    0.003    0.003    0.004    0.004 3792339585.py:10(using_enumerate)\n",
      "        1    0.002    0.002    0.003    0.003 3792339585.py:1(using_range)\n",
      "    19998    0.002    0.000    0.002    0.000 {method 'append' of 'list' objects}\n",
      "        1    0.000    0.000    0.000    0.000 {method 'disable' of '_lsprof.Profiler' objects}\n",
      "        1    0.000    0.000    0.008    0.008 {built-in method builtins.exec}\n",
      "        1    0.000    0.000    0.008    0.008 <string>:1(<module>)\n",
      "        1    0.000    0.000    0.000    0.000 {built-in method builtins.len}\n",
      "\n",
      "\n"
     ]
    }
   ],
   "source": [
    "cProfile.run(\"using_range(range(10000));using_enumerate(range(10000))\", sort=True)"
   ]
  },
  {
   "cell_type": "markdown",
   "metadata": {},
   "source": [
    "### Comparing two functions\n"
   ]
  },
  {
   "cell_type": "code",
   "execution_count": 21,
   "metadata": {},
   "outputs": [
    {
     "name": "stdout",
     "output_type": "stream",
     "text": [
      "         10004 function calls in 0.004 seconds\n",
      "\n",
      "   Ordered by: internal time\n",
      "\n",
      "   ncalls  tottime  percall  cumtime  percall filename:lineno(function)\n",
      "        1    0.003    0.003    0.004    0.004 3792339585.py:1(using_range)\n",
      "     9999    0.001    0.000    0.001    0.000 {method 'append' of 'list' objects}\n",
      "        1    0.000    0.000    0.000    0.000 {method 'disable' of '_lsprof.Profiler' objects}\n",
      "        1    0.000    0.000    0.004    0.004 <string>:1(<module>)\n",
      "        1    0.000    0.000    0.004    0.004 {built-in method builtins.exec}\n",
      "        1    0.000    0.000    0.000    0.000 {built-in method builtins.len}\n",
      "\n",
      "\n",
      "         10003 function calls in 0.006 seconds\n",
      "\n",
      "   Ordered by: internal time\n",
      "\n",
      "   ncalls  tottime  percall  cumtime  percall filename:lineno(function)\n",
      "        1    0.005    0.005    0.006    0.006 3792339585.py:10(using_enumerate)\n",
      "     9999    0.002    0.000    0.002    0.000 {method 'append' of 'list' objects}\n",
      "        1    0.000    0.000    0.000    0.000 {method 'disable' of '_lsprof.Profiler' objects}\n",
      "        1    0.000    0.000    0.006    0.006 {built-in method builtins.exec}\n",
      "        1    0.000    0.000    0.006    0.006 <string>:1(<module>)\n",
      "\n",
      "\n"
     ]
    }
   ],
   "source": [
    "cProfile.runctx(\n",
    "    \"using_range(range(10000))\", globals(), locals(), sort=\"time\"\n",
    ")  # filename='profile1.txt')\n",
    "cProfile.runctx(\n",
    "    \"using_enumerate(range(10000))\", globals(), locals(), sort=\"time\"\n",
    ")  # filename='profile2.txt')"
   ]
  },
  {
   "cell_type": "markdown",
   "metadata": {},
   "source": [
    "### Profiling with line-by-line analysis\n"
   ]
  },
  {
   "cell_type": "code",
   "execution_count": 22,
   "metadata": {},
   "outputs": [
    {
     "name": "stdout",
     "output_type": "stream",
     "text": [
      "Array created successfully\n",
      "         400526 function calls (400519 primitive calls) in 0.353 seconds\n",
      "\n",
      "   Ordered by: call count\n",
      "\n",
      "   ncalls  tottime  percall  cumtime  percall filename:lineno(function)\n",
      "   400005    0.159    0.000    0.159    0.000 {method 'append' of 'list' objects}\n",
      "    89/83    0.000    0.000    0.000    0.000 {built-in method builtins.isinstance}\n",
      "       39    0.000    0.000    0.000    0.000 c:\\Users\\anith\\AppData\\Local\\Programs\\Python\\Python312\\Lib\\enum.py:1544(_get_value)\n",
      "       24    0.000    0.000    0.000    0.000 c:\\Users\\anith\\AppData\\Local\\Programs\\Python\\Python312\\Lib\\typing.py:2182(cast)\n",
      "       20    0.000    0.000    0.000    0.000 c:\\Users\\anith\\AppData\\Local\\Programs\\Python\\Python312\\Lib\\enum.py:1129(__new__)\n",
      "       20    0.000    0.000    0.000    0.000 c:\\Users\\anith\\AppData\\Local\\Programs\\Python\\Python312\\Lib\\enum.py:726(__call__)\n",
      "       14    0.000    0.000    0.000    0.000 {built-in method builtins.len}\n",
      "       10    0.000    0.000    0.000    0.000 c:\\Users\\anith\\AppData\\Local\\Programs\\Python\\Python312\\Lib\\inspect.py:2804(kind)\n",
      "       10    0.000    0.000    0.000    0.000 {built-in method builtins.hasattr}\n",
      "        8    0.000    0.000    0.000    0.000 c:\\Users\\anith\\AppData\\Local\\Programs\\Python\\Python312\\Lib\\enum.py:1562(__and__)\n",
      "        7    0.000    0.000    0.000    0.000 {method '__exit__' of '_thread.lock' objects}\n",
      "        6    0.000    0.000    0.000    0.000 c:\\Users\\anith\\AppData\\Local\\Programs\\Python\\Python312\\Lib\\typing.py:392(inner)\n",
      "        6    0.000    0.000    0.000    0.000 C:\\Users\\anith\\AppData\\Roaming\\Python\\Python312\\site-packages\\traitlets\\traitlets.py:629(get)\n",
      "        6    0.000    0.000    0.000    0.000 C:\\Users\\anith\\AppData\\Roaming\\Python\\Python312\\site-packages\\traitlets\\traitlets.py:676(__get__)\n",
      "        6    0.000    0.000    0.000    0.000 {built-in method builtins.max}\n",
      "        6    0.000    0.000    0.000    0.000 {built-in method builtins.next}\n",
      "        5    0.000    0.000    0.000    0.000 c:\\Users\\anith\\AppData\\Local\\Programs\\Python\\Python312\\Lib\\enum.py:1551(__or__)\n",
      "        5    0.000    0.000    0.000    0.000 C:\\Users\\anith\\AppData\\Roaming\\Python\\Python312\\site-packages\\zmq\\sugar\\attrsettr.py:43(__getattr__)\n",
      "        5    0.000    0.000    0.000    0.000 C:\\Users\\anith\\AppData\\Roaming\\Python\\Python312\\site-packages\\zmq\\sugar\\attrsettr.py:66(_get_attr_opt)\n",
      "        5    0.000    0.000    0.000    0.000 c:\\Users\\anith\\AppData\\Local\\Programs\\Python\\Python312\\Lib\\asyncio\\base_events.py:734(time)\n",
      "        5    0.000    0.000    0.000    0.000 C:\\Users\\anith\\AppData\\Roaming\\Python\\Python312\\site-packages\\zmq\\eventloop\\zmqstream.py:538(receiving)\n",
      "        5    0.000    0.000    0.000    0.000 <frozen importlib._bootstrap>:1390(_handle_fromlist)\n",
      "        5    0.000    0.000    0.000    0.000 {built-in method time.monotonic}\n",
      "        5    0.000    0.000    0.000    0.000 {method 'upper' of 'str' objects}\n",
      "        5    0.000    0.000    0.000    0.000 {built-in method builtins.getattr}\n",
      "        4    0.000    0.000    0.000    0.000 c:\\Users\\anith\\AppData\\Local\\Programs\\Python\\Python312\\Lib\\typing.py:1285(__hash__)\n",
      "        4    0.017    0.004    0.030    0.007 C:\\Users\\anith\\AppData\\Roaming\\Python\\Python312\\site-packages\\zmq\\sugar\\socket.py:626(send)\n",
      "        4    0.000    0.000    0.000    0.000 c:\\Users\\anith\\AppData\\Local\\Programs\\Python\\Python312\\Lib\\inspect.py:2792(name)\n",
      "        4    0.000    0.000    0.000    0.000 c:\\Users\\anith\\AppData\\Local\\Programs\\Python\\Python312\\Lib\\inspect.py:3085(parameters)\n",
      "        4    0.000    0.000    0.000    0.000 {method 'append' of 'collections.deque' objects}\n",
      "      4/3    0.000    0.000    0.000    0.000 {method 'acquire' of '_thread.lock' objects}\n",
      "        4    0.000    0.000    0.000    0.000 {method 'get' of 'dict' objects}\n",
      "        4    0.000    0.000    0.000    0.000 {built-in method builtins.hash}\n",
      "        3    0.000    0.000    0.000    0.000 c:\\Users\\anith\\AppData\\Local\\Programs\\Python\\Python312\\Lib\\typing.py:1492(__subclasscheck__)\n",
      "        3    0.000    0.000    0.000    0.000 c:\\Users\\anith\\AppData\\Local\\Programs\\Python\\Python312\\Lib\\typing.py:1221(__instancecheck__)\n",
      "        3    0.000    0.000    0.000    0.000 c:\\Users\\anith\\AppData\\Local\\Programs\\Python\\Python312\\Lib\\queue.py:209(_qsize)\n",
      "        3    0.000    0.000    0.000    0.000 c:\\Users\\anith\\AppData\\Local\\Programs\\Python\\Python312\\Lib\\queue.py:97(empty)\n",
      "        3    0.000    0.000    0.000    0.000 C:\\Users\\anith\\AppData\\Roaming\\Python\\Python312\\site-packages\\zmq\\eventloop\\zmqstream.py:542(sending)\n",
      "        3    0.000    0.000    0.000    0.000 C:\\Users\\anith\\AppData\\Roaming\\Python\\Python312\\site-packages\\zmq\\eventloop\\zmqstream.py:686(_update_handler)\n",
      "        3    0.000    0.000    0.000    0.000 C:\\Users\\anith\\AppData\\Roaming\\Python\\Python312\\site-packages\\zmq\\eventloop\\zmqstream.py:663(_rebuild_io_state)\n",
      "        3    0.000    0.000    0.000    0.000 <frozen abc>:121(__subclasscheck__)\n",
      "        3    0.000    0.000    0.000    0.000 {built-in method _abc._abc_subclasscheck}\n",
      "        3    0.000    0.000    0.000    0.000 {method 'popleft' of 'collections.deque' objects}\n",
      "        3    0.000    0.000    0.000    0.000 {method 'items' of 'mappingproxy' objects}\n",
      "        3    0.000    0.000    0.000    0.000 {built-in method builtins.issubclass}\n",
      "        2    0.000    0.000    0.000    0.000 c:\\Users\\anith\\AppData\\Local\\Programs\\Python\\Python312\\Lib\\threading.py:299(__enter__)\n",
      "        2    0.000    0.000    0.000    0.000 c:\\Users\\anith\\AppData\\Local\\Programs\\Python\\Python312\\Lib\\threading.py:302(__exit__)\n",
      "        2    0.000    0.000    0.001    0.001 c:\\Users\\anith\\AppData\\Local\\Programs\\Python\\Python312\\Lib\\asyncio\\base_events.py:1909(_run_once)\n",
      "        2    0.000    0.000    0.000    0.000 C:\\Users\\anith\\AppData\\Roaming\\Python\\Python312\\site-packages\\zmq\\sugar\\socket.py:774(recv_multipart)\n",
      "        2    0.000    0.000    0.000    0.000 c:\\Users\\anith\\AppData\\Local\\Programs\\Python\\Python312\\Lib\\selectors.py:319(select)\n",
      "        2    0.000    0.000    0.000    0.000 C:\\Users\\anith\\AppData\\Roaming\\Python\\Python312\\site-packages\\traitlets\\traitlets.py:3486(validate_elements)\n",
      "        2    0.000    0.000    0.001    0.000 c:\\Users\\anith\\AppData\\Local\\Programs\\Python\\Python312\\Lib\\asyncio\\events.py:86(_run)\n",
      "        2    0.000    0.000    0.000    0.000 c:\\Users\\anith\\AppData\\Local\\Programs\\Python\\Python312\\Lib\\asyncio\\events.py:36(__init__)\n",
      "        2    0.000    0.000    0.000    0.000 c:\\Users\\anith\\AppData\\Local\\Programs\\Python\\Python312\\Lib\\asyncio\\base_events.py:2004(get_debug)\n",
      "        2    0.000    0.000    0.000    0.000 c:\\Users\\anith\\AppData\\Local\\Programs\\Python\\Python312\\Lib\\asyncio\\base_events.py:539(_check_closed)\n",
      "        2    0.000    0.000    0.000    0.000 c:\\Users\\anith\\AppData\\Local\\Programs\\Python\\Python312\\Lib\\selectors.py:313(_select)\n",
      "        2    0.000    0.000    0.000    0.000 C:\\Users\\anith\\AppData\\Roaming\\Python\\Python312\\site-packages\\traitlets\\traitlets.py:689(set)\n",
      "        2    0.000    0.000    0.000    0.000 C:\\Users\\anith\\AppData\\Roaming\\Python\\Python312\\site-packages\\zmq\\eventloop\\zmqstream.py:624(_handle_recv)\n",
      "        2    0.000    0.000    0.000    0.000 c:\\Users\\anith\\AppData\\Local\\Programs\\Python\\Python312\\Lib\\asyncio\\selector_events.py:750(_process_events)\n",
      "        2    0.000    0.000    0.000    0.000 C:\\Users\\anith\\AppData\\Roaming\\Python\\Python312\\site-packages\\traitlets\\traitlets.py:727(_cross_validate)\n",
      "        2    0.000    0.000    0.001    0.000 C:\\Users\\anith\\AppData\\Roaming\\Python\\Python312\\site-packages\\zmq\\eventloop\\zmqstream.py:583(_handle_events)\n",
      "        2    0.000    0.000    0.000    0.000 C:\\Users\\anith\\AppData\\Roaming\\Python\\Python312\\site-packages\\ipykernel\\iostream.py:505(parent_header)\n",
      "        2    0.000    0.000    0.000    0.000 C:\\Users\\anith\\AppData\\Roaming\\Python\\Python312\\site-packages\\traitlets\\traitlets.py:708(__set__)\n",
      "        2    0.000    0.000    0.000    0.000 C:\\Users\\anith\\AppData\\Roaming\\Python\\Python312\\site-packages\\traitlets\\traitlets.py:718(_validate)\n",
      "        2    0.000    0.000    0.000    0.000 C:\\Users\\anith\\AppData\\Roaming\\Python\\Python312\\site-packages\\traitlets\\traitlets.py:2304(validate)\n",
      "        2    0.000    0.000    0.000    0.000 C:\\Users\\anith\\AppData\\Roaming\\Python\\Python312\\site-packages\\traitlets\\traitlets.py:3624(validate_elements)\n",
      "        2    0.000    0.000    0.000    0.000 C:\\Users\\anith\\AppData\\Roaming\\Python\\Python312\\site-packages\\traitlets\\traitlets.py:3631(set)\n",
      "        2    0.000    0.000    0.000    0.000 C:\\Users\\anith\\AppData\\Roaming\\Python\\Python312\\site-packages\\traitlets\\traitlets.py:3474(validate)\n",
      "        2    0.000    0.000    0.000    0.000 C:\\Users\\anith\\AppData\\Roaming\\Python\\Python312\\site-packages\\tornado\\ioloop.py:541(time)\n",
      "        2    0.000    0.000    0.000    0.000 C:\\Users\\anith\\AppData\\Roaming\\Python\\Python312\\site-packages\\zmq\\eventloop\\zmqstream.py:556(_run_callback)\n",
      "        2    0.000    0.000    0.000    0.000 C:\\Users\\anith\\AppData\\Roaming\\Python\\Python312\\site-packages\\ipykernel\\iostream.py:655(write)\n",
      "        2    0.000    0.000    0.000    0.000 C:\\Users\\anith\\AppData\\Roaming\\Python\\Python312\\site-packages\\ipykernel\\iostream.py:157(_handle_event)\n",
      "        2    0.000    0.000    0.000    0.000 C:\\Users\\anith\\AppData\\Roaming\\Python\\Python312\\site-packages\\ipykernel\\iostream.py:550(_is_master_process)\n",
      "        2    0.000    0.000    0.000    0.000 C:\\Users\\anith\\AppData\\Roaming\\Python\\Python312\\site-packages\\ipykernel\\iostream.py:577(_schedule_flush)\n",
      "        2    0.000    0.000    0.000    0.000 {built-in method _contextvars.copy_context}\n",
      "        2    0.000    0.000    0.000    0.000 {built-in method nt.getpid}\n",
      "        2    0.000    0.000    0.000    0.000 {method '__enter__' of '_thread.lock' objects}\n",
      "        2    0.000    0.000    0.000    0.000 {method '__exit__' of '_thread.RLock' objects}\n",
      "        2    0.000    0.000    0.000    0.000 {built-in method time.time}\n",
      "        2    0.000    0.000    0.000    0.000 {method 'write' of '_io.StringIO' objects}\n",
      "        2    0.000    0.000    0.000    0.000 {method 'items' of 'dict' objects}\n",
      "        2    0.000    0.000    0.000    0.000 {method 'extend' of 'list' objects}\n",
      "        2    0.000    0.000    0.000    0.000 {built-in method builtins.iter}\n",
      "        2    0.000    0.000    0.000    0.000 {built-in method builtins.min}\n",
      "        2    0.000    0.000    0.001    0.000 {method 'run' of '_contextvars.Context' objects}\n",
      "        2    0.000    0.000    0.000    0.000 {method 'get' of '_contextvars.ContextVar' objects}\n",
      "        2    0.009    0.005    0.016    0.008 {method '__exit__' of 'sqlite3.Connection' objects}\n",
      "        2    0.000    0.000    0.000    0.000 {built-in method select.select}\n",
      "        1    0.000    0.000    0.000    0.000 c:\\Users\\anith\\AppData\\Local\\Programs\\Python\\Python312\\Lib\\threading.py:1155(_wait_for_tstate_lock)\n",
      "        1    0.000    0.000    0.000    0.000 c:\\Users\\anith\\AppData\\Local\\Programs\\Python\\Python312\\Lib\\threading.py:314(_is_owned)\n",
      "        1    0.000    0.000    0.000    0.000 c:\\Users\\anith\\AppData\\Local\\Programs\\Python\\Python312\\Lib\\threading.py:627(clear)\n",
      "        1    0.000    0.000    0.000    0.000 c:\\Users\\anith\\AppData\\Local\\Programs\\Python\\Python312\\Lib\\asyncio\\base_events.py:785(call_soon)\n",
      "        1    0.000    0.000    0.287    0.287 c:\\Users\\anith\\AppData\\Local\\Programs\\Python\\Python312\\Lib\\threading.py:637(wait)\n",
      "        1    0.000    0.000    0.000    0.000 c:\\Users\\anith\\AppData\\Local\\Programs\\Python\\Python312\\Lib\\threading.py:601(is_set)\n",
      "        1    0.000    0.000    0.000    0.000 c:\\Users\\anith\\AppData\\Local\\Programs\\Python\\Python312\\Lib\\threading.py:308(_release_save)\n",
      "        1    0.000    0.000    0.000    0.000 c:\\Users\\anith\\AppData\\Local\\Programs\\Python\\Python312\\Lib\\threading.py:311(_acquire_restore)\n",
      "        1    0.000    0.000    0.000    0.000 c:\\Users\\anith\\AppData\\Local\\Programs\\Python\\Python312\\Lib\\threading.py:1222(is_alive)\n",
      "        1    0.000    0.000    0.000    0.000 c:\\Users\\anith\\AppData\\Local\\Programs\\Python\\Python312\\Lib\\inspect.py:2915(kwargs)\n",
      "        1    0.000    0.000    0.000    0.000 c:\\Users\\anith\\AppData\\Local\\Programs\\Python\\Python312\\Lib\\asyncio\\base_events.py:767(call_at)\n",
      "        1    0.000    0.000    0.000    0.000 C:\\Users\\anith\\AppData\\Roaming\\Python\\Python312\\site-packages\\traitlets\\traitlets.py:1527(_notify_observers)\n",
      "        1    0.000    0.000    0.000    0.000 c:\\Users\\anith\\AppData\\Local\\Programs\\Python\\Python312\\Lib\\inspect.py:2945(apply_defaults)\n",
      "        1    0.000    0.000    0.000    0.000 c:\\Users\\anith\\AppData\\Local\\Programs\\Python\\Python312\\Lib\\inspect.py:2892(args)\n",
      "        1    0.000    0.000    0.000    0.000 c:\\Users\\anith\\AppData\\Local\\Programs\\Python\\Python312\\Lib\\inspect.py:3129(_bind)\n",
      "        1    0.000    0.000    0.000    0.000 c:\\Users\\anith\\AppData\\Local\\Programs\\Python\\Python312\\Lib\\asyncio\\base_events.py:1894(_add_callback)\n",
      "        1    0.000    0.000    0.000    0.000 c:\\Users\\anith\\AppData\\Local\\Programs\\Python\\Python312\\Lib\\asyncio\\base_events.py:743(call_later)\n",
      "        1    0.000    0.000    0.000    0.000 c:\\Users\\anith\\AppData\\Local\\Programs\\Python\\Python312\\Lib\\asyncio\\base_events.py:814(_call_soon)\n",
      "        1    0.000    0.000    0.000    0.000 c:\\Users\\anith\\AppData\\Local\\Programs\\Python\\Python312\\Lib\\selectors.py:275(_key_from_fd)\n",
      "        1    0.000    0.000    0.000    0.000 c:\\Users\\anith\\AppData\\Local\\Programs\\Python\\Python312\\Lib\\inspect.py:3268(bind)\n",
      "        1    0.000    0.000    0.000    0.000 c:\\Users\\anith\\AppData\\Local\\Programs\\Python\\Python312\\Lib\\asyncio\\events.py:111(__init__)\n",
      "        1    0.000    0.000    0.000    0.000 c:\\Users\\anith\\AppData\\Local\\Programs\\Python\\Python312\\Lib\\inspect.py:2884(__init__)\n",
      "        1    0.000    0.000    0.000    0.000 c:\\Users\\anith\\AppData\\Local\\Programs\\Python\\Python312\\Lib\\asyncio\\events.py:127(__lt__)\n",
      "        1    0.000    0.000    0.031    0.031 C:\\Users\\anith\\AppData\\Roaming\\Python\\Python312\\site-packages\\IPython\\core\\history.py:845(writeout_cache)\n",
      "        1    0.000    0.000    0.000    0.000 C:\\Users\\anith\\AppData\\Roaming\\Python\\Python312\\site-packages\\tornado\\ioloop.py:742(_run_callback)\n",
      "        1    0.000    0.000    0.000    0.000 C:\\Users\\anith\\AppData\\Roaming\\Python\\Python312\\site-packages\\traitlets\\traitlets.py:1512(_notify_trait)\n",
      "        1    0.000    0.000    0.000    0.000 C:\\Users\\anith\\AppData\\Roaming\\Python\\Python312\\site-packages\\traitlets\\traitlets.py:1523(notify_change)\n",
      "        1    0.000    0.000    0.000    0.000 C:\\Users\\anith\\AppData\\Roaming\\Python\\Python312\\site-packages\\tornado\\ioloop.py:596(call_later)\n",
      "        1    0.000    0.000    0.000    0.000 C:\\Users\\anith\\AppData\\Roaming\\Python\\Python312\\site-packages\\dateutil\\tz\\tz.py:74(utcoffset)\n",
      "        1    0.000    0.000    0.000    0.000 C:\\Users\\anith\\AppData\\Roaming\\Python\\Python312\\site-packages\\zmq\\eventloop\\zmqstream.py:694(<lambda>)\n",
      "        1    0.000    0.000    0.000    0.000 C:\\Users\\anith\\AppData\\Roaming\\Python\\Python312\\site-packages\\ipykernel\\iostream.py:138(_event_pipe)\n",
      "        1    0.000    0.000    0.000    0.000 C:\\Users\\anith\\AppData\\Roaming\\Python\\Python312\\site-packages\\tornado\\platform\\asyncio.py:225(add_callback)\n",
      "        1    0.000    0.000    0.030    0.030 C:\\Users\\anith\\AppData\\Roaming\\Python\\Python312\\site-packages\\IPython\\core\\history.py:833(_writeout_input_cache)\n",
      "        1    0.000    0.000    0.000    0.000 C:\\Users\\anith\\AppData\\Roaming\\Python\\Python312\\site-packages\\IPython\\core\\history.py:839(_writeout_output_cache)\n",
      "        1    0.000    0.000    0.031    0.031 C:\\Users\\anith\\AppData\\Roaming\\Python\\Python312\\site-packages\\IPython\\core\\history.py:55(only_when_enabled)\n",
      "        1    0.000    0.000    0.000    0.000 C:\\Users\\anith\\AppData\\Roaming\\Python\\Python312\\site-packages\\decorator.py:199(fix)\n",
      "        1    0.000    0.000    0.000    0.000 C:\\Users\\anith\\AppData\\Roaming\\Python\\Python312\\site-packages\\ipykernel\\iostream.py:259(schedule)\n",
      "        1    0.000    0.000    0.000    0.000 C:\\Users\\anith\\AppData\\Roaming\\Python\\Python312\\site-packages\\ipykernel\\iostream.py:587(_schedule_in_thread)\n",
      "        1    0.000    0.000    0.000    0.000 C:\\Users\\anith\\AppData\\Roaming\\Python\\Python312\\site-packages\\tornado\\platform\\asyncio.py:200(_handle_events)\n",
      "        1    0.000    0.000    0.000    0.000 C:\\Users\\anith\\AppData\\Roaming\\Python\\Python312\\site-packages\\tornado\\platform\\asyncio.py:210(call_at)\n",
      "        1    0.009    0.009    0.286    0.286 C:\\Users\\anith\\AppData\\Local\\Temp\\ipykernel_52116\\267384398.py:11(main)\n",
      "        1    0.149    0.149    0.277    0.277 C:\\Users\\anith\\AppData\\Local\\Temp\\ipykernel_52116\\267384398.py:1(create_array)\n",
      "        1    0.000    0.000    0.001    0.001 C:\\Users\\anith\\AppData\\Local\\Temp\\ipykernel_52116\\267384398.py:7(print_statement)\n",
      "        1    0.000    0.000    0.000    0.000 {built-in method _heapq.heappush}\n",
      "        1    0.000    0.000    0.000    0.000 {method 'release' of '_thread.lock' objects}\n",
      "        1    0.000    0.000    0.000    0.000 {built-in method _thread.allocate_lock}\n",
      "        1    0.000    0.000    0.000    0.000 {method 'values' of 'mappingproxy' objects}\n",
      "        1    0.000    0.000    0.001    0.001 {built-in method builtins.print}\n",
      "        1    0.000    0.000    0.000    0.000 {method 'disable' of '_lsprof.Profiler' objects}\n",
      "        1    0.008    0.008    0.014    0.014 {method 'execute' of 'sqlite3.Connection' objects}\n",
      "        1    0.000    0.000    0.000    0.000 {built-in method _asyncio.get_running_loop}\n",
      "\n",
      "\n"
     ]
    }
   ],
   "source": [
    "def create_array():\n",
    "    arr = []\n",
    "    for i in range(0, 400000):\n",
    "        arr.append(i)\n",
    "\n",
    "\n",
    "def print_statement():\n",
    "    print(\"Array created successfully\")\n",
    "\n",
    "\n",
    "def main():\n",
    "    create_array()\n",
    "    print_statement()\n",
    "\n",
    "\n",
    "if __name__ == \"__main__\":\n",
    "    import cProfile\n",
    "    import pstats\n",
    "\n",
    "    profiler = cProfile.Profile()\n",
    "    profiler.enable()\n",
    "    main()\n",
    "    profiler.disable()\n",
    "\n",
    "    stats = pstats.Stats(profiler).sort_stats(\"ncalls\")\n",
    "    stats.print_stats()"
   ]
  },
  {
   "cell_type": "code",
   "execution_count": 23,
   "metadata": {},
   "outputs": [],
   "source": [
    "# Export profiler output to file\n",
    "stats = pstats.Stats(profiler)\n",
    "stats.dump_stats(\"export-data.txt\")"
   ]
  },
  {
   "cell_type": "markdown",
   "metadata": {},
   "source": [
    "### Profiling memory usage\n",
    "\n",
    "\n",
    "    pip install memory_profiler\n"
   ]
  },
  {
   "cell_type": "code",
   "execution_count": 24,
   "metadata": {},
   "outputs": [
    {
     "name": "stdout",
     "output_type": "stream",
     "text": [
      "         10004 function calls in 0.006 seconds\n",
      "\n",
      "   Ordered by: internal time\n",
      "\n",
      "   ncalls  tottime  percall  cumtime  percall filename:lineno(function)\n",
      "        1    0.004    0.004    0.006    0.006 3792339585.py:1(using_range)\n",
      "     9999    0.002    0.000    0.002    0.000 {method 'append' of 'list' objects}\n",
      "        1    0.000    0.000    0.000    0.000 {method 'disable' of '_lsprof.Profiler' objects}\n",
      "        1    0.000    0.000    0.006    0.006 {built-in method builtins.exec}\n",
      "        1    0.000    0.000    0.006    0.006 <string>:1(<module>)\n",
      "        1    0.000    0.000    0.000    0.000 {built-in method builtins.len}\n",
      "\n",
      "\n"
     ]
    }
   ],
   "source": [
    "cProfile.runctx(\"using_range(range(10000))\", globals(), locals(), sort=\"time\")"
   ]
  },
  {
   "cell_type": "code",
   "execution_count": 28,
   "metadata": {},
   "outputs": [
    {
     "name": "stdout",
     "output_type": "stream",
     "text": [
      "Memory usage: 52.75\n"
     ]
    }
   ],
   "source": [
    "from memory_profiler import memory_usage\n",
    "\n",
    "\n",
    "nums = tuple(range(1000))\n",
    "memory_profiler = memory_usage((using_range, (nums,), {}))\n",
    "print(\"Memory usage:\", memory_profiler[0])"
   ]
  },
  {
   "cell_type": "code",
   "execution_count": null,
   "metadata": {},
   "outputs": [],
   "source": []
  }
 ],
 "metadata": {
  "kernelspec": {
   "display_name": "Python 3",
   "language": "python",
   "name": "python3"
  },
  "language_info": {
   "codemirror_mode": {
    "name": "ipython",
    "version": 3
   },
   "file_extension": ".py",
   "mimetype": "text/x-python",
   "name": "python",
   "nbconvert_exporter": "python",
   "pygments_lexer": "ipython3",
   "version": "3.12.7"
  }
 },
 "nbformat": 4,
 "nbformat_minor": 2
}
