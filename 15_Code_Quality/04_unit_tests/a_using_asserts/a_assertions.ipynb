{
 "cells": [
  {
   "cell_type": "markdown",
   "metadata": {},
   "source": [
    "# assertions\n",
    "\n",
    "\n",
    "Symantic:\n",
    "\n",
    "    assert <statement>, \"Error Message, if statement is incorrect\""
   ]
  },
  {
   "cell_type": "code",
   "execution_count": 1,
   "metadata": {},
   "outputs": [
    {
     "name": "stdout",
     "output_type": "stream",
     "text": [
      "True\n"
     ]
    }
   ],
   "source": [
    "print(2 + 3 == 5)"
   ]
  },
  {
   "cell_type": "code",
   "execution_count": 2,
   "metadata": {},
   "outputs": [],
   "source": [
    "assert 2 + 3 == 5\n",
    "assert 2 + 3 == 5, \"2 + 3 is not resulting to 5\""
   ]
  },
  {
   "cell_type": "code",
   "execution_count": 3,
   "metadata": {},
   "outputs": [
    {
     "name": "stdout",
     "output_type": "stream",
     "text": [
      "False\n",
      "2 + 3 is not resulting to 6\n"
     ]
    }
   ],
   "source": [
    "print(2 + 3 == 6)\n",
    "try:\n",
    "    assert 2 + 3 == 6, \"2 + 3 is not resulting to 6\"\n",
    "except AssertionError as ex:\n",
    "    print(ex)\n"
   ]
  },
  {
   "cell_type": "code",
   "execution_count": 4,
   "metadata": {},
   "outputs": [
    {
     "name": "stdout",
     "output_type": "stream",
     "text": [
      "Error is \n"
     ]
    }
   ],
   "source": [
    "try:\n",
    "    assert 10 -34 > 0\n",
    "except AssertionError as ex:\n",
    "    print(f\"Error is {ex}\")\n"
   ]
  },
  {
   "cell_type": "code",
   "execution_count": 5,
   "metadata": {},
   "outputs": [
    {
     "name": "stdout",
     "output_type": "stream",
     "text": [
      "Error is This statement is incorrect\n"
     ]
    }
   ],
   "source": [
    "try:\n",
    "    assert 10 -34 > 0, \"This statement is incorrect\"\n",
    "except AssertionError as ex:\n",
    "    print(f\"Error is {ex}\")"
   ]
  },
  {
   "cell_type": "code",
   "execution_count": 6,
   "metadata": {},
   "outputs": [],
   "source": [
    "assert 1 == True\n",
    "assert \"1\" != str(True)"
   ]
  },
  {
   "cell_type": "code",
   "execution_count": null,
   "metadata": {},
   "outputs": [],
   "source": []
  }
 ],
 "metadata": {
  "kernelspec": {
   "display_name": "Python 3",
   "language": "python",
   "name": "python3"
  },
  "language_info": {
   "codemirror_mode": {
    "name": "ipython",
    "version": 3
   },
   "file_extension": ".py",
   "mimetype": "text/x-python",
   "name": "python",
   "nbconvert_exporter": "python",
   "pygments_lexer": "ipython3",
   "version": "3.12.7"
  }
 },
 "nbformat": 4,
 "nbformat_minor": 2
}
