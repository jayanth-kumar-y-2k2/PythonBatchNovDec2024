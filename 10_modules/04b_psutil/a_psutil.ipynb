{
 "cells": [
  {
   "cell_type": "markdown",
   "metadata": {},
   "source": [
    "# psutil\n",
    "\n",
    "    process level details"
   ]
  },
  {
   "cell_type": "code",
   "execution_count": 1,
   "metadata": {},
   "outputs": [],
   "source": [
    "import psutil\n",
    "import datetime"
   ]
  },
  {
   "cell_type": "code",
   "execution_count": 2,
   "metadata": {},
   "outputs": [
    {
     "name": "stdout",
     "output_type": "stream",
     "text": [
      "System boot time: 2025-01-23 21:16:38\n"
     ]
    }
   ],
   "source": [
    "boot_time = psutil.boot_time()\n",
    "print(\n",
    "    f\"System boot time: {datetime.datetime.fromtimestamp(boot_time).strftime('%Y-%m-%d %H:%M:%S')}\"\n",
    ")"
   ]
  },
  {
   "cell_type": "code",
   "execution_count": 3,
   "metadata": {},
   "outputs": [
    {
     "name": "stdout",
     "output_type": "stream",
     "text": [
      "CPU usage: 7.2%\n"
     ]
    }
   ],
   "source": [
    "cpu_percent = psutil.cpu_percent()\n",
    "print(f\"CPU usage: {cpu_percent}%\")"
   ]
  },
  {
   "cell_type": "code",
   "execution_count": 4,
   "metadata": {},
   "outputs": [
    {
     "name": "stdout",
     "output_type": "stream",
     "text": [
      "Total memory       : 8314740736\n",
      "Available memory   : 5463318528\n",
      "Memory percent used: 34.3%\n"
     ]
    }
   ],
   "source": [
    "mem_info = psutil.virtual_memory()\n",
    "print(f\"Total memory       : {mem_info.total}\")\n",
    "print(f\"Available memory   : {mem_info.available}\")\n",
    "print(f\"Memory percent used: {mem_info.percent}%\")"
   ]
  },
  {
   "cell_type": "code",
   "execution_count": 5,
   "metadata": {},
   "outputs": [
    {
     "name": "stdout",
     "output_type": "stream",
     "text": [
      "Total disk space       : 33636024320\n",
      "Free disk space        : 20523175936\n",
      "Disk space percent used: 35.7%\n"
     ]
    }
   ],
   "source": [
    "disk_usage = psutil.disk_usage(\"/\")\n",
    "print(f\"Total disk space       : {disk_usage.total}\")\n",
    "print(f\"Free disk space        : {disk_usage.free}\")\n",
    "print(f\"Disk space percent used: {disk_usage.percent}%\")"
   ]
  },
  {
   "cell_type": "code",
   "execution_count": 6,
   "metadata": {},
   "outputs": [
    {
     "name": "stdout",
     "output_type": "stream",
     "text": [
      "Number of processes: 26\n"
     ]
    }
   ],
   "source": [
    "# No of running processes\n",
    "\n",
    "num_processes = len(psutil.pids())\n",
    "print(f\"Number of processes: {num_processes}\")"
   ]
  },
  {
   "cell_type": "code",
   "execution_count": 7,
   "metadata": {},
   "outputs": [
    {
     "name": "stdout",
     "output_type": "stream",
     "text": [
      "Process name       : python\n",
      "Process status     : sleeping\n",
      "Process memory info: pmem(rss=68468736, vms=841887744, shared=16777216, text=2752512, lib=0, data=144637952, dirty=0)\n",
      "Process CPU usage: 0.0%\n",
      "Process memory usage: 68468736\n",
      "Process start time: 1737683683.78\n",
      "Process command line: ['/workspaces/PythonBatchNovDec2024/.env/bin/python', '-m', 'ipykernel_launcher', '--f=/home/codespace/.local/share/jupyter/runtime/kernel-v343b3d855a7f0a5158cc9ae23d3eee936dff0ca0d.json']\n",
      "\n",
      "Process name       : sh\n",
      "Process status     : sleeping\n",
      "Process memory info: pmem(rss=1572864, vms=2678784, shared=1572864, text=77824, lib=0, data=323584, dirty=0)\n",
      "Process CPU usage: 0.0%\n",
      "Process memory usage: 1572864\n",
      "Process start time: 1737683685.77\n",
      "Process command line: ['/bin/sh']\n",
      "\n",
      "Process name       : sh\n",
      "Process status     : sleeping\n",
      "Process memory info: pmem(rss=1441792, vms=2678784, shared=1441792, text=77824, lib=0, data=323584, dirty=0)\n",
      "Process CPU usage: 0.0%\n",
      "Process memory usage: 1441792\n",
      "Process start time: 1737683686.17\n",
      "Process command line: ['/bin/sh']\n",
      "\n",
      "Process name       : node\n",
      "Process status     : sleeping\n",
      "Process memory info: pmem(rss=61136896, vms=1019047936, shared=42467328, text=29884416, lib=0, data=60055552, dirty=0)\n",
      "Process CPU usage: 0.0%\n",
      "Process memory usage: 61136896\n",
      "Process start time: 1737683950.97\n",
      "Process command line: ['/vscode/bin/linux-x64/91fbdddc47bc9c09064bf7acf133d22631cbf083/node', '/vscode/bin/linux-x64/91fbdddc47bc9c09064bf7acf133d22631cbf083/extensions/markdown-language-features/dist/serverWorkerMain', '--node-ipc', '--clientProcessId=4515']\n",
      "\n",
      "Process name       : python\n",
      "Process status     : running\n",
      "Process memory info: pmem(rss=70303744, vms=699281408, shared=16777216, text=2752512, lib=0, data=135909376, dirty=0)\n",
      "Process CPU usage: 1.0%\n",
      "Process memory usage: 70303744\n",
      "Process start time: 1737685460.0\n",
      "Process command line: ['/workspaces/PythonBatchNovDec2024/.env/bin/python', '-m', 'ipykernel_launcher', '--f=/home/codespace/.local/share/jupyter/runtime/kernel-v39fc13c9b6e2e0a31eb9cacc4f4e5ff5ec560d678.json']\n",
      "\n"
     ]
    }
   ],
   "source": [
    "pids_5 = list(psutil.pids())[-5:]\n",
    "\n",
    "for pid in pids_5:\n",
    "    process = psutil.Process(pid)\n",
    "    print(f\"Process name       : {process.name()}\")\n",
    "    print(f\"Process status     : {process.status()}\")\n",
    "    print(f\"Process memory info: {process.memory_info()}\")\n",
    "\n",
    "    cpu_percent = process.cpu_percent(interval=1)\n",
    "    print(f\"Process CPU usage: {cpu_percent}%\")\n",
    "\n",
    "    memory_info = process.memory_info()\n",
    "    print(f\"Process memory usage: {memory_info.rss}\")\n",
    "\n",
    "    start_time = process.create_time()\n",
    "    print(f\"Process start time: {start_time}\")\n",
    "\n",
    "    cmdline = process.cmdline()\n",
    "    print(f\"Process command line: {cmdline}\")\n",
    "    print()"
   ]
  },
  {
   "cell_type": "code",
   "execution_count": 9,
   "metadata": {},
   "outputs": [
    {
     "name": "stdout",
     "output_type": "stream",
     "text": [
      "PID of python: 5084\n",
      "PID of python: 16478\n"
     ]
    }
   ],
   "source": [
    "# Get the process ID (PID) of a process by name\n",
    "process_name = \"python\"\n",
    "for proc in psutil.process_iter([\"name\"]):\n",
    "    if proc.info[\"name\"] == process_name:\n",
    "        print(f\"PID of {process_name}: {proc.pid}\")"
   ]
  },
  {
   "cell_type": "code",
   "execution_count": 10,
   "metadata": {},
   "outputs": [
    {
     "data": {
      "text/plain": [
       "{'lo': snetio(bytes_sent=59708923, bytes_recv=59708923, packets_sent=35219, packets_recv=35219, errin=0, errout=0, dropin=0, dropout=0),\n",
       " 'eth0': snetio(bytes_sent=179214038, bytes_recv=23801589684, packets_sent=521834, packets_recv=17161607, errin=0, errout=0, dropin=0, dropout=0),\n",
       " 'docker0': snetio(bytes_sent=0, bytes_recv=0, packets_sent=0, packets_recv=0, errin=0, errout=0, dropin=0, dropout=0)}"
      ]
     },
     "execution_count": 10,
     "metadata": {},
     "output_type": "execute_result"
    }
   ],
   "source": [
    "# Get the network usage for a given network interface\n",
    "\n",
    "net_io_counters = psutil.net_io_counters(pernic=True)\n",
    "\n",
    "net_io_counters"
   ]
  },
  {
   "cell_type": "code",
   "execution_count": 11,
   "metadata": {},
   "outputs": [
    {
     "name": "stdout",
     "output_type": "stream",
     "text": [
      "\n",
      "Bytes sent  : 59708923\n",
      "Bytes received: 59708923\n",
      "Packets sent  : 35219\n",
      "Packets received: 35219\n",
      "DropIn        : 0\n",
      "DropOut       : 0\n",
      "count         : <built-in method count of snetio object at 0x7341526af7d0>\n",
      "\n",
      "Bytes sent  : 179214038\n",
      "Bytes received: 23801589684\n",
      "Packets sent  : 521834\n",
      "Packets received: 17161607\n",
      "DropIn        : 0\n",
      "DropOut       : 0\n",
      "count         : <built-in method count of snetio object at 0x7341526aef10>\n",
      "\n",
      "Bytes sent  : 0\n",
      "Bytes received: 0\n",
      "Packets sent  : 0\n",
      "Packets received: 0\n",
      "DropIn        : 0\n",
      "DropOut       : 0\n",
      "count         : <built-in method count of snetio object at 0x7341526afa00>\n"
     ]
    }
   ],
   "source": [
    "for interface in net_io_counters:\n",
    "    print(f\"\\nBytes sent  : {net_io_counters[interface].bytes_sent}\")\n",
    "    print(f\"Bytes received: {net_io_counters[interface].bytes_recv}\")\n",
    "    print(f\"Packets sent  : {net_io_counters[interface].packets_sent}\")\n",
    "    print(f\"Packets received: {net_io_counters[interface].packets_recv}\")\n",
    "    print(f\"DropIn        : {net_io_counters[interface].dropin}\")\n",
    "    print(f\"DropOut       : {net_io_counters[interface].dropout}\")\n",
    "    print(f\"count         : {net_io_counters[interface].count}\")"
   ]
  },
  {
   "cell_type": "code",
   "execution_count": 12,
   "metadata": {},
   "outputs": [
    {
     "name": "stdout",
     "output_type": "stream",
     "text": [
      "Number of connections: 57\n"
     ]
    }
   ],
   "source": [
    "num_connections = len(psutil.net_connections())\n",
    "print(f\"Number of connections: {num_connections}\")"
   ]
  },
  {
   "cell_type": "code",
   "execution_count": 13,
   "metadata": {},
   "outputs": [
    {
     "name": "stdout",
     "output_type": "stream",
     "text": [
      "/\n",
      "/proc\n",
      "/dev\n",
      "/dev/pts\n",
      "/sys\n",
      "/sys/fs/cgroup\n",
      "/dev/mqueue\n",
      "/dev/shm\n",
      "/usr/sbin/docker-init\n",
      "/vscode\n",
      "/workspaces\n",
      "/tmp\n",
      "/.codespaces/bin\n",
      "/etc/resolv.conf\n",
      "/etc/hostname\n",
      "/etc/hosts\n",
      "/workspaces/.codespaces/.persistedshare\n",
      "/workspaces/.codespaces/shared\n",
      "/home/vscode/.minikube\n",
      "/var/lib/docker\n",
      "/sys/kernel/security\n"
     ]
    }
   ],
   "source": [
    "# Get the list of mounted file systems\n",
    "\n",
    "partitions = psutil.disk_partitions(all=True)\n",
    "for partition in partitions:\n",
    "    print(partition.mountpoint)"
   ]
  },
  {
   "cell_type": "code",
   "execution_count": 14,
   "metadata": {},
   "outputs": [
    {
     "name": "stdout",
     "output_type": "stream",
     "text": [
      "Battery information not available\n"
     ]
    }
   ],
   "source": [
    "battery = psutil.sensors_battery()\n",
    "if battery is not None:\n",
    "    plugged = \"Plugged in\" if battery.power_plugged else \"Not plugged in\"\n",
    "    print(f\"Battery level: {battery.percent}% ({plugged})\")\n",
    "else:\n",
    "    print(\"Battery information not available\")"
   ]
  },
  {
   "cell_type": "code",
   "execution_count": null,
   "metadata": {},
   "outputs": [],
   "source": []
  }
 ],
 "metadata": {
  "kernelspec": {
   "display_name": ".env",
   "language": "python",
   "name": "python3"
  },
  "language_info": {
   "codemirror_mode": {
    "name": "ipython",
    "version": 3
   },
   "file_extension": ".py",
   "mimetype": "text/x-python",
   "name": "python",
   "nbconvert_exporter": "python",
   "pygments_lexer": "ipython3",
   "version": "3.12.1"
  }
 },
 "nbformat": 4,
 "nbformat_minor": 2
}
