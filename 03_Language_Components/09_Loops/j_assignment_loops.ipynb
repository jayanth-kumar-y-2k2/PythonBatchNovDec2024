{
 "cells": [
  {
   "cell_type": "markdown",
   "metadata": {},
   "source": [
    "# Assignment \n",
    "    - Try break, continue, pass, sys.exit() for a \"for\" loop"
   ]
  },
  {
   "cell_type": "code",
   "execution_count": 8,
   "metadata": {},
   "outputs": [
    {
     "name": "stdout",
     "output_type": "stream",
     "text": [
      "1 2 3 4 5 6 7 8 9 10 \n",
      "For Loop\n"
     ]
    }
   ],
   "source": [
    "for i in range(1, 11):\n",
    "    print(i, end = \" \")\n",
    "\n",
    "print()\n",
    "print(\"For Loop\")"
   ]
  },
  {
   "cell_type": "code",
   "execution_count": 10,
   "metadata": {},
   "outputs": [
    {
     "name": "stdout",
     "output_type": "stream",
     "text": [
      "1 2 3 \n",
      "For Loop - Break\n"
     ]
    }
   ],
   "source": [
    "for i in range(1, 11):\n",
    "    if i != 2 and i % 2 == 0:\n",
    "        break\n",
    "    print(i, end=\" \")\n",
    "\n",
    "print()\n",
    "print(\"For Loop - Break\")"
   ]
  },
  {
   "cell_type": "code",
   "execution_count": 11,
   "metadata": {},
   "outputs": [
    {
     "name": "stdout",
     "output_type": "stream",
     "text": [
      "1 2 3 5 7 9 \n",
      "For Loop - Continue\n"
     ]
    }
   ],
   "source": [
    "for i in range(1, 11):\n",
    "    if i != 2 and i % 2 == 0:\n",
    "        continue\n",
    "    print(i, end=\" \")\n",
    "\n",
    "print()\n",
    "print(\"For Loop - Continue\")"
   ]
  },
  {
   "cell_type": "code",
   "execution_count": 12,
   "metadata": {},
   "outputs": [
    {
     "name": "stdout",
     "output_type": "stream",
     "text": [
      "1 2 3 4 5 6 7 8 9 10 \n",
      "For Loop - Pass\n"
     ]
    }
   ],
   "source": [
    "for i in range(1, 11):\n",
    "    if i != 2 and i % 2 == 0:\n",
    "        pass\n",
    "    print(i, end=\" \")\n",
    "\n",
    "print()\n",
    "print(\"For Loop - Pass\")"
   ]
  },
  {
   "cell_type": "code",
   "execution_count": 13,
   "metadata": {},
   "outputs": [
    {
     "name": "stdout",
     "output_type": "stream",
     "text": [
      "1 2 3 "
     ]
    },
    {
     "ename": "SystemExit",
     "evalue": "0",
     "output_type": "error",
     "traceback": [
      "An exception has occurred, use %tb to see the full traceback.\n",
      "\u001b[0;31mSystemExit\u001b[0m\u001b[0;31m:\u001b[0m 0\n"
     ]
    },
    {
     "name": "stderr",
     "output_type": "stream",
     "text": [
      "/home/codespace/.local/lib/python3.12/site-packages/IPython/core/interactiveshell.py:3585: UserWarning: To exit: use 'exit', 'quit', or Ctrl-D.\n",
      "  warn(\"To exit: use 'exit', 'quit', or Ctrl-D.\", stacklevel=1)\n"
     ]
    }
   ],
   "source": [
    "import sys\n",
    "\n",
    "for i in range(1, 11):\n",
    "    if i != 2 and i % 2 == 0:\n",
    "        sys.exit(0)\n",
    "    print(i, end=\" \")\n",
    "\n",
    "print()\n",
    "print(\"For Loop - Sys\")"
   ]
  },
  {
   "cell_type": "code",
   "execution_count": null,
   "metadata": {},
   "outputs": [],
   "source": []
  }
 ],
 "metadata": {
  "kernelspec": {
   "display_name": "Python 3",
   "language": "python",
   "name": "python3"
  },
  "language_info": {
   "codemirror_mode": {
    "name": "ipython",
    "version": 3
   },
   "file_extension": ".py",
   "mimetype": "text/x-python",
   "name": "python",
   "nbconvert_exporter": "python",
   "pygments_lexer": "ipython3",
   "version": "3.12.1"
  }
 },
 "nbformat": 4,
 "nbformat_minor": 2
}
